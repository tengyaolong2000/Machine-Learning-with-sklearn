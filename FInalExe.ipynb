{
 "cells": [
  {
   "cell_type": "code",
   "execution_count": 1,
   "id": "b7b53865",
   "metadata": {},
   "outputs": [
    {
     "name": "stdout",
     "output_type": "stream",
     "text": [
      "[0]\n"
     ]
    }
   ],
   "source": [
    "from MLFinalExercise import DTree\n",
    "\n",
    "model = DTree()\n",
    "\n",
    "\n",
    "Y_pred = model.predict(age = 42,\n",
    "job = 2,\n",
    "marital = 0,\n",
    "education = 0,\n",
    "default = 1,\n",
    "balance = 2,\n",
    "housing = 1,\n",
    "loan = 0,\n",
    "day = 5,\n",
    "month = 8,\n",
    "duration = 380,\n",
    "campaign = 1,\n",
    "pdays = -1,\n",
    "previous = 0)\n",
    "\n",
    "print(Y_pred)"
   ]
  },
  {
   "cell_type": "code",
   "execution_count": null,
   "id": "4744fc0a",
   "metadata": {},
   "outputs": [],
   "source": []
  }
 ],
 "metadata": {
  "kernelspec": {
   "display_name": "Python 3",
   "language": "python",
   "name": "python3"
  },
  "language_info": {
   "codemirror_mode": {
    "name": "ipython",
    "version": 3
   },
   "file_extension": ".py",
   "mimetype": "text/x-python",
   "name": "python",
   "nbconvert_exporter": "python",
   "pygments_lexer": "ipython3",
   "version": "3.8.8"
  }
 },
 "nbformat": 4,
 "nbformat_minor": 5
}
