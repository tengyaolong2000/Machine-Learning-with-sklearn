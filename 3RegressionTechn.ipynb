{
 "cells": [
  {
   "cell_type": "code",
   "execution_count": 74,
   "id": "2b9927fb",
   "metadata": {},
   "outputs": [
    {
     "name": "stdout",
     "output_type": "stream",
     "text": [
      "[0]\n"
     ]
    }
   ],
   "source": [
    "import pandas as pd\n",
    "from sklearn.naive_bayes import GaussianNB\n",
    "from sklearn.model_selection import train_test_split\n",
    "data = pd.read_csv('https://raw.githubusercontent.com/PacktWorkshops/The-Machine-Learning-Workshop/master/Chapter04/Activity4.01/census_income_dataset_preprocessed.csv')\n",
    "\n",
    "X = data.drop(\"target\", axis=1)\n",
    "Y = data['target']\n",
    "X_new, X_test, Y_new, Y_test = train_test_split(X, Y, test_size=0.1, random_state=101)\n",
    "\n",
    "X_train, X_dev, Y_train, Y_dev = train_test_split(X_new, Y_new, test_size=X_test.shape[0]/X_new.shape[0], random_state=101)\n",
    "\n",
    "\n",
    "model_NB = GaussianNB()\n",
    "model_NB.fit(X_train, Y_train)\n",
    "Y_pred = model_NB.predict([[39, 6, 13, 4, 0, 2174, 0, 40, 38]])\n",
    "print(Y_pred)"
   ]
  },
  {
   "cell_type": "code",
   "execution_count": 75,
   "id": "47c1ac31",
   "metadata": {
    "scrolled": true
   },
   "outputs": [
    {
     "name": "stdout",
     "output_type": "stream",
     "text": [
      "(26047, 9) (3257, 9) (26047,) (3257,)\n"
     ]
    }
   ],
   "source": [
    "print(X_train.shape, X_dev.shape, Y_train.shape, Y_dev.shape)"
   ]
  },
  {
   "cell_type": "code",
   "execution_count": 76,
   "id": "9db2a08e",
   "metadata": {},
   "outputs": [
    {
     "name": "stdout",
     "output_type": "stream",
     "text": [
      "[0]\n"
     ]
    }
   ],
   "source": [
    "from sklearn.tree import DecisionTreeClassifier\n",
    "\n",
    "model_DT = DecisionTreeClassifier(random_state=101)\n",
    "model_DT.fit(X_train, Y_train)\n",
    "Y_pred_2 = model_DT.predict([[39, 6, 13, 4, 0, 2174, 0, 40, 38]])\n",
    "print(Y_pred_2)"
   ]
  },
  {
   "cell_type": "code",
   "execution_count": 77,
   "id": "505d7dac",
   "metadata": {},
   "outputs": [
    {
     "name": "stdout",
     "output_type": "stream",
     "text": [
      "[0]\n"
     ]
    }
   ],
   "source": [
    "from sklearn.svm import SVC\n",
    "\n",
    "model_SVC = SVC(random_state=101)\n",
    "model_SVC.fit(X_train, Y_train)\n",
    "Y_pred_3 = model_SVC.predict([[39, 6, 13, 4, 0, 2174, 0, 40, 38]])\n",
    "print(Y_pred_3)"
   ]
  },
  {
   "cell_type": "code",
   "execution_count": 78,
   "id": "63ddd63e",
   "metadata": {},
   "outputs": [
    {
     "name": "stdout",
     "output_type": "stream",
     "text": [
      "{'NB': {'Accuracy': [0.7970975544208546, 0.7902978200798281, 0.8084126496776174], 'Precision': [0.6683725690890481, 0.6816901408450704, 0.6873239436619718], 'Recall': [0.3123405612244898, 0.29802955665024633, 0.32232496697490093]}, 'DT': {'Accuracy': [0.9723960532882866, 0.8114829597789377, 0.8234571691740866], 'Precision': [0.9827856025039123, 0.6316489361702128, 0.6226415094339622], 'Recall': [0.9011479591836735, 0.5849753694581281, 0.6103038309114928]}, 'SVM': {'Accuracy': [0.8024724536414942, 0.7958243782622045, 0.8099478047282775], 'Precision': [0.7411210954214805, 0.7474747474747475, 0.7429577464788732], 'Recall': [0.27614795918367346, 0.2733990147783251, 0.27873183619550856]}}\n"
     ]
    }
   ],
   "source": [
    "from sklearn.metrics import accuracy_score, precision_score, recall_score\n",
    "\n",
    "X_sets = [X_train, X_dev, X_test]\n",
    "Y_sets = [Y_train, Y_dev, Y_test]\n",
    "metrics = {'NB':{'Accuracy':[], 'Precision':[], 'Recall':[]}, 'DT':{'Accuracy':[], 'Precision':[], 'Recall':[]}, 'SVM':{'Accuracy':[], 'Precision':[], 'Recall':[]}}\n",
    "\n",
    "for i in range(0,len(X_sets)):\n",
    "    pred_NB = model_NB.predict(X_sets[i])\n",
    "    metrics['NB']['Accuracy'].append(accuracy_score(Y_sets[i], pred_NB))\n",
    "    metrics['NB']['Precision'].append(precision_score(Y_sets[i], pred_NB))\n",
    "    metrics['NB']['Recall'].append(recall_score(Y_sets[i], pred_NB))\n",
    "    \n",
    "    pred_DT = model_DT.predict(X_sets[i])\n",
    "    metrics['DT']['Accuracy'].append(accuracy_score(Y_sets[i], pred_DT))\n",
    "    metrics['DT']['Precision'].append(precision_score(Y_sets[i], pred_DT))\n",
    "    metrics['DT']['Recall'].append(recall_score(Y_sets[i], pred_DT))\n",
    "    \n",
    "    pred_SVC = model_SVC.predict(X_sets[i])\n",
    "    metrics['SVM']['Accuracy'].append(accuracy_score(Y_sets[i], pred_SVC))\n",
    "    metrics['SVM']['Precision'].append(precision_score(Y_sets[i], pred_SVC))\n",
    "    metrics['SVM']['Recall'].append(recall_score(Y_sets[i], pred_SVC))\n",
    "    \n",
    "print(metrics)\n",
    "    \n",
    "    "
   ]
  },
  {
   "cell_type": "code",
   "execution_count": null,
   "id": "6a970ae5",
   "metadata": {},
   "outputs": [],
   "source": []
  }
 ],
 "metadata": {
  "kernelspec": {
   "display_name": "Python 3",
   "language": "python",
   "name": "python3"
  },
  "language_info": {
   "codemirror_mode": {
    "name": "ipython",
    "version": 3
   },
   "file_extension": ".py",
   "mimetype": "text/x-python",
   "name": "python",
   "nbconvert_exporter": "python",
   "pygments_lexer": "ipython3",
   "version": "3.8.8"
  }
 },
 "nbformat": 4,
 "nbformat_minor": 5
}
