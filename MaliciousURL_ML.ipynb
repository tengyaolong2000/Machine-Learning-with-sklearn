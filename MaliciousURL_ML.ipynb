{
 "cells": [
  {
   "cell_type": "code",
   "execution_count": 34,
   "id": "1b0938d3",
   "metadata": {
    "scrolled": true
   },
   "outputs": [
    {
     "name": "stdout",
     "output_type": "stream",
     "text": [
      "extracting url_svmlight, f size 0\n",
      "extracting url_svmlight/Day33.svm, f size 18674876\n",
      "extracting url_svmlight/Day32.svm, f size 18599211\n",
      "extracting url_svmlight/Day53.svm, f size 18963938\n",
      "extracting url_svmlight/Day20.svm, f size 18633460\n",
      "extracting url_svmlight/Day7.svm, f size 18777054\n",
      "extracting url_svmlight/Day117.svm, f size 18106370\n",
      "extracting url_svmlight/Day54.svm, f size 19037622\n",
      "extracting url_svmlight/Day68.svm, f size 18596539\n",
      "extracting url_svmlight/Day25.svm, f size 18521076\n",
      "extracting url_svmlight/Day60.svm, f size 18279089\n",
      "extracting url_svmlight/Day19.svm, f size 18129220\n",
      "extracting url_svmlight/Day96.svm, f size 18492299\n",
      "extracting url_svmlight/Day4.svm, f size 18370692\n",
      "extracting url_svmlight/Day72.svm, f size 18652021\n",
      "extracting url_svmlight/Day49.svm, f size 18910444\n",
      "extracting url_svmlight/Day70.svm, f size 18650683\n",
      "extracting url_svmlight/Day21.svm, f size 18772561\n",
      "extracting url_svmlight/Day109.svm, f size 17948544\n",
      "extracting url_svmlight/Day91.svm, f size 18108218\n",
      "extracting url_svmlight/Day15.svm, f size 18263769\n",
      "extracting url_svmlight/Day103.svm, f size 18589108\n",
      "extracting url_svmlight/Day85.svm, f size 18336714\n",
      "extracting url_svmlight/Day24.svm, f size 18763423\n",
      "extracting url_svmlight/Day75.svm, f size 18598704\n",
      "extracting url_svmlight/Day93.svm, f size 18174909\n",
      "extracting url_svmlight/Day17.svm, f size 18353027\n",
      "extracting url_svmlight/Day108.svm, f size 18217956\n",
      "extracting url_svmlight/Day57.svm, f size 18460563\n",
      "extracting url_svmlight/Day22.svm, f size 18833179\n",
      "extracting url_svmlight/Day45.svm, f size 119513\n",
      "extracting url_svmlight/Day40.svm, f size 18789073\n",
      "extracting url_svmlight/Day12.svm, f size 18405452\n",
      "extracting url_svmlight/Day61.svm, f size 18411385\n",
      "extracting url_svmlight/Day86.svm, f size 18541606\n",
      "extracting url_svmlight/Day43.svm, f size 18430312\n",
      "extracting url_svmlight/Day34.svm, f size 18614598\n",
      "extracting url_svmlight/Day59.svm, f size 18325759\n",
      "extracting url_svmlight/Day82.svm, f size 18287907\n",
      "extracting url_svmlight/Day6.svm, f size 18558713\n",
      "extracting url_svmlight/Day37.svm, f size 18589488\n",
      "extracting url_svmlight/Day9.svm, f size 18583189\n",
      "extracting url_svmlight/Day71.svm, f size 18593727\n",
      "extracting url_svmlight/Day100.svm, f size 18805155\n",
      "extracting url_svmlight/Day99.svm, f size 18819773\n",
      "extracting url_svmlight/Day107.svm, f size 17909108\n",
      "extracting url_svmlight/Day87.svm, f size 18507440\n",
      "extracting url_svmlight/Day16.svm, f size 18372122\n",
      "extracting url_svmlight/Day51.svm, f size 18668751\n",
      "extracting url_svmlight/Day11.svm, f size 18509755\n",
      "extracting url_svmlight/Day110.svm, f size 17881625\n",
      "extracting url_svmlight/Day116.svm, f size 18325661\n"
     ]
    }
   ],
   "source": [
    "import tarfile\n",
    "from sklearn.linear_model import SGDClassifier\n",
    "from sklearn.metrics import classification_report\n",
    "from sklearn.datasets import load_svmlight_file\n",
    "import numpy as np\n",
    "\n",
    "path = '/Users/tengyaolong/Desktop/url_svmlight.tar.gz'\n",
    "tar = tarfile.open(path, \"r:gz\")\n",
    "max_obs = 0\n",
    "max_vars = 0\n",
    "i = 0\n",
    "split = 50\n",
    "\n",
    "for tarinfo in tar:\n",
    "    print('extracting %s, f size %s' %(tarinfo.name, tarinfo.size))\n",
    "    if tarinfo.isfile():\n",
    "        f = tar.extractfile(tarinfo.name)\n",
    "        X, y = load_svmlight_file(f)\n",
    "        max_vars = np.maximum(max_vars, X.shape[1])\n",
    "        max_obs = np.maximum(max_obs, X.shape[0])\n",
    "    if i > split:\n",
    "        break\n",
    "    i+=1\n"
   ]
  },
  {
   "cell_type": "code",
   "execution_count": 31,
   "id": "1ae16ac2",
   "metadata": {},
   "outputs": [
    {
     "name": "stdout",
     "output_type": "stream",
     "text": [
      "max X = 3231961, max y dimension = 20000\n"
     ]
    }
   ],
   "source": [
    "print('max X = %s, max y dimension = %s' % (max_vars, max_obs))"
   ]
  },
  {
   "cell_type": "code",
   "execution_count": 33,
   "id": "4c77a27f",
   "metadata": {},
   "outputs": [
    {
     "ename": "ValueError",
     "evalue": "classes should include all valid labels that can be in y",
     "output_type": "error",
     "traceback": [
      "\u001b[0;31m---------------------------------------------------------------------------\u001b[0m",
      "\u001b[0;31mValueError\u001b[0m                                Traceback (most recent call last)",
      "\u001b[0;32m<ipython-input-33-01c6f1aa136c>\u001b[0m in \u001b[0;36m<module>\u001b[0;34m\u001b[0m\n\u001b[1;32m     11\u001b[0m         \u001b[0mX\u001b[0m\u001b[0;34m,\u001b[0m \u001b[0my\u001b[0m \u001b[0;34m=\u001b[0m \u001b[0mload_svmlight_file\u001b[0m\u001b[0;34m(\u001b[0m\u001b[0mf\u001b[0m\u001b[0;34m,\u001b[0m \u001b[0mn_features\u001b[0m\u001b[0;34m=\u001b[0m\u001b[0mn_features\u001b[0m\u001b[0;34m)\u001b[0m\u001b[0;34m\u001b[0m\u001b[0;34m\u001b[0m\u001b[0m\n\u001b[1;32m     12\u001b[0m         \u001b[0;32mif\u001b[0m \u001b[0mi\u001b[0m \u001b[0;34m<\u001b[0m \u001b[0msplit\u001b[0m\u001b[0;34m:\u001b[0m\u001b[0;34m\u001b[0m\u001b[0;34m\u001b[0m\u001b[0m\n\u001b[0;32m---> 13\u001b[0;31m             \u001b[0msgd\u001b[0m\u001b[0;34m.\u001b[0m\u001b[0mpartial_fit\u001b[0m\u001b[0;34m(\u001b[0m\u001b[0mX\u001b[0m\u001b[0;34m,\u001b[0m \u001b[0my\u001b[0m\u001b[0;34m,\u001b[0m \u001b[0mclasses\u001b[0m\u001b[0;34m=\u001b[0m\u001b[0mnp\u001b[0m\u001b[0;34m.\u001b[0m\u001b[0munique\u001b[0m\u001b[0;34m(\u001b[0m\u001b[0mY\u001b[0m\u001b[0;34m)\u001b[0m\u001b[0;34m)\u001b[0m\u001b[0;34m\u001b[0m\u001b[0;34m\u001b[0m\u001b[0m\n\u001b[0m\u001b[1;32m     14\u001b[0m         \u001b[0;32mif\u001b[0m \u001b[0mi\u001b[0m \u001b[0;34m==\u001b[0m \u001b[0msplit\u001b[0m\u001b[0;34m:\u001b[0m\u001b[0;34m\u001b[0m\u001b[0;34m\u001b[0m\u001b[0m\n\u001b[1;32m     15\u001b[0m             \u001b[0mprint\u001b[0m\u001b[0;34m(\u001b[0m\u001b[0mclassification_report\u001b[0m\u001b[0;34m(\u001b[0m\u001b[0msgd\u001b[0m\u001b[0;34m.\u001b[0m\u001b[0mpredict\u001b[0m\u001b[0;34m(\u001b[0m\u001b[0mX\u001b[0m\u001b[0;34m)\u001b[0m\u001b[0;34m,\u001b[0m \u001b[0my\u001b[0m\u001b[0;34m)\u001b[0m\u001b[0;34m)\u001b[0m\u001b[0;34m\u001b[0m\u001b[0;34m\u001b[0m\u001b[0m\n",
      "\u001b[0;32m~/opt/anaconda3/lib/python3.8/site-packages/sklearn/linear_model/_stochastic_gradient.py\u001b[0m in \u001b[0;36mpartial_fit\u001b[0;34m(self, X, y, classes, sample_weight)\u001b[0m\n\u001b[1;32m    693\u001b[0m                              \u001b[0;34m\"Pass the resulting weights as the class_weight \"\u001b[0m\u001b[0;34m\u001b[0m\u001b[0;34m\u001b[0m\u001b[0m\n\u001b[1;32m    694\u001b[0m                              \"parameter.\".format(self.class_weight))\n\u001b[0;32m--> 695\u001b[0;31m         return self._partial_fit(X, y, alpha=self.alpha, C=1.0, loss=self.loss,\n\u001b[0m\u001b[1;32m    696\u001b[0m                                  \u001b[0mlearning_rate\u001b[0m\u001b[0;34m=\u001b[0m\u001b[0mself\u001b[0m\u001b[0;34m.\u001b[0m\u001b[0mlearning_rate\u001b[0m\u001b[0;34m,\u001b[0m \u001b[0mmax_iter\u001b[0m\u001b[0;34m=\u001b[0m\u001b[0;36m1\u001b[0m\u001b[0;34m,\u001b[0m\u001b[0;34m\u001b[0m\u001b[0;34m\u001b[0m\u001b[0m\n\u001b[1;32m    697\u001b[0m                                  \u001b[0mclasses\u001b[0m\u001b[0;34m=\u001b[0m\u001b[0mclasses\u001b[0m\u001b[0;34m,\u001b[0m \u001b[0msample_weight\u001b[0m\u001b[0;34m=\u001b[0m\u001b[0msample_weight\u001b[0m\u001b[0;34m,\u001b[0m\u001b[0;34m\u001b[0m\u001b[0;34m\u001b[0m\u001b[0m\n",
      "\u001b[0;32m~/opt/anaconda3/lib/python3.8/site-packages/sklearn/linear_model/_stochastic_gradient.py\u001b[0m in \u001b[0;36m_partial_fit\u001b[0;34m(self, X, y, alpha, C, loss, learning_rate, max_iter, classes, sample_weight, coef_init, intercept_init)\u001b[0m\n\u001b[1;32m    502\u001b[0m \u001b[0;34m\u001b[0m\u001b[0m\n\u001b[1;32m    503\u001b[0m         \u001b[0;31m# Allocate datastructures from input arguments\u001b[0m\u001b[0;34m\u001b[0m\u001b[0;34m\u001b[0m\u001b[0;34m\u001b[0m\u001b[0m\n\u001b[0;32m--> 504\u001b[0;31m         self._expanded_class_weight = compute_class_weight(\n\u001b[0m\u001b[1;32m    505\u001b[0m             self.class_weight, classes=self.classes_, y=y)\n\u001b[1;32m    506\u001b[0m         \u001b[0msample_weight\u001b[0m \u001b[0;34m=\u001b[0m \u001b[0m_check_sample_weight\u001b[0m\u001b[0;34m(\u001b[0m\u001b[0msample_weight\u001b[0m\u001b[0;34m,\u001b[0m \u001b[0mX\u001b[0m\u001b[0;34m)\u001b[0m\u001b[0;34m\u001b[0m\u001b[0;34m\u001b[0m\u001b[0m\n",
      "\u001b[0;32m~/opt/anaconda3/lib/python3.8/site-packages/sklearn/utils/validation.py\u001b[0m in \u001b[0;36minner_f\u001b[0;34m(*args, **kwargs)\u001b[0m\n\u001b[1;32m     61\u001b[0m             \u001b[0mextra_args\u001b[0m \u001b[0;34m=\u001b[0m \u001b[0mlen\u001b[0m\u001b[0;34m(\u001b[0m\u001b[0margs\u001b[0m\u001b[0;34m)\u001b[0m \u001b[0;34m-\u001b[0m \u001b[0mlen\u001b[0m\u001b[0;34m(\u001b[0m\u001b[0mall_args\u001b[0m\u001b[0;34m)\u001b[0m\u001b[0;34m\u001b[0m\u001b[0;34m\u001b[0m\u001b[0m\n\u001b[1;32m     62\u001b[0m             \u001b[0;32mif\u001b[0m \u001b[0mextra_args\u001b[0m \u001b[0;34m<=\u001b[0m \u001b[0;36m0\u001b[0m\u001b[0;34m:\u001b[0m\u001b[0;34m\u001b[0m\u001b[0;34m\u001b[0m\u001b[0m\n\u001b[0;32m---> 63\u001b[0;31m                 \u001b[0;32mreturn\u001b[0m \u001b[0mf\u001b[0m\u001b[0;34m(\u001b[0m\u001b[0;34m*\u001b[0m\u001b[0margs\u001b[0m\u001b[0;34m,\u001b[0m \u001b[0;34m**\u001b[0m\u001b[0mkwargs\u001b[0m\u001b[0;34m)\u001b[0m\u001b[0;34m\u001b[0m\u001b[0;34m\u001b[0m\u001b[0m\n\u001b[0m\u001b[1;32m     64\u001b[0m \u001b[0;34m\u001b[0m\u001b[0m\n\u001b[1;32m     65\u001b[0m             \u001b[0;31m# extra_args > 0\u001b[0m\u001b[0;34m\u001b[0m\u001b[0;34m\u001b[0m\u001b[0;34m\u001b[0m\u001b[0m\n",
      "\u001b[0;32m~/opt/anaconda3/lib/python3.8/site-packages/sklearn/utils/class_weight.py\u001b[0m in \u001b[0;36mcompute_class_weight\u001b[0;34m(class_weight, classes, y)\u001b[0m\n\u001b[1;32m     42\u001b[0m \u001b[0;34m\u001b[0m\u001b[0m\n\u001b[1;32m     43\u001b[0m     \u001b[0;32mif\u001b[0m \u001b[0mset\u001b[0m\u001b[0;34m(\u001b[0m\u001b[0my\u001b[0m\u001b[0;34m)\u001b[0m \u001b[0;34m-\u001b[0m \u001b[0mset\u001b[0m\u001b[0;34m(\u001b[0m\u001b[0mclasses\u001b[0m\u001b[0;34m)\u001b[0m\u001b[0;34m:\u001b[0m\u001b[0;34m\u001b[0m\u001b[0;34m\u001b[0m\u001b[0m\n\u001b[0;32m---> 44\u001b[0;31m         raise ValueError(\"classes should include all valid labels that can \"\n\u001b[0m\u001b[1;32m     45\u001b[0m                          \"be in y\")\n\u001b[1;32m     46\u001b[0m     \u001b[0;32mif\u001b[0m \u001b[0mclass_weight\u001b[0m \u001b[0;32mis\u001b[0m \u001b[0;32mNone\u001b[0m \u001b[0;32mor\u001b[0m \u001b[0mlen\u001b[0m\u001b[0;34m(\u001b[0m\u001b[0mclass_weight\u001b[0m\u001b[0;34m)\u001b[0m \u001b[0;34m==\u001b[0m \u001b[0;36m0\u001b[0m\u001b[0;34m:\u001b[0m\u001b[0;34m\u001b[0m\u001b[0;34m\u001b[0m\u001b[0m\n",
      "\u001b[0;31mValueError\u001b[0m: classes should include all valid labels that can be in y"
     ]
    }
   ],
   "source": [
    "classes = [-1, 1]\n",
    "sgd = SGDClassifier(loss='log')\n",
    "n_features = 3231961\n",
    "split = 50\n",
    "i = 0\n",
    "for tarinfo in tar:\n",
    "    if i > split:\n",
    "        break\n",
    "    if tarinfo.isfile():\n",
    "        f = tar.extractfile(tarinfo.name)\n",
    "        X, y = load_svmlight_file(f, n_features=n_features)\n",
    "        if i < split:\n",
    "            sgd.partial_fit(X, y, classes=np.unique(Y))\n",
    "        if i == split:\n",
    "            print(classification_report(sgd.predict(X), y))\n",
    "    i += 1"
   ]
  },
  {
   "cell_type": "code",
   "execution_count": null,
   "id": "0986debe",
   "metadata": {},
   "outputs": [],
   "source": []
  }
 ],
 "metadata": {
  "kernelspec": {
   "display_name": "Python 3",
   "language": "python",
   "name": "python3"
  },
  "language_info": {
   "codemirror_mode": {
    "name": "ipython",
    "version": 3
   },
   "file_extension": ".py",
   "mimetype": "text/x-python",
   "name": "python",
   "nbconvert_exporter": "python",
   "pygments_lexer": "ipython3",
   "version": "3.8.8"
  }
 },
 "nbformat": 4,
 "nbformat_minor": 5
}
