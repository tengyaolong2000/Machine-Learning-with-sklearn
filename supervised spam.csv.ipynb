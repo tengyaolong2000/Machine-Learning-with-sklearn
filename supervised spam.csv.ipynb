{
 "cells": [
  {
   "cell_type": "code",
   "execution_count": 4,
   "id": "f340e860",
   "metadata": {},
   "outputs": [
    {
     "name": "stdout",
     "output_type": "stream",
     "text": [
      "0       0.64\n",
      "1       0.50\n",
      "2       0.71\n",
      "3       0.00\n",
      "4       0.00\n",
      "        ... \n",
      "4596    0.62\n",
      "4597    0.00\n",
      "4598    0.30\n",
      "4599    0.00\n",
      "4600    0.65\n",
      "Name: word_freq_all, Length: 4601, dtype: float64\n"
     ]
    }
   ],
   "source": [
    "import pandas as pd\n",
    "\n",
    "names = [\"word_freq_make\", \"word_freq_address\", \"word_freq_all\", \n",
    "         \"word_freq_3d\", \"word_freq_our\", \"word_freq_over\", \n",
    "         \"word_freq_remove\", \"word_freq_internet\", \"word_freq_order\", \n",
    "         \"word_freq_mail\", \"word_freq_receive\", \"word_freq_will\", \n",
    "         \"word_freq_people\", \"word_freq_report\", \"word_freq_addresses\", \n",
    "         \"word_freq_free\", \"word_freq_business\", \"word_freq_email\", \n",
    "         \"word_freq_you\", \"word_freq_credit\", \"word_freq_your\", \n",
    "         \"word_freq_font\", \"word_freq_000\", \"word_freq_money\", \n",
    "         \"word_freq_hp\", \"word_freq_hpl\", \"word_freq_george\", \n",
    "         \"word_freq_650\", \"word_freq_lab\", \"word_freq_labs\", \n",
    "         \"word_freq_telnet\", \"word_freq_857\", \"word_freq_data\", \n",
    "         \"word_freq_415\", \"word_freq_85\", \"word_freq_technology\", \n",
    "         \"word_freq_1999\", \"word_freq_parts\", \"word_freq_pm\", \n",
    "         \"word_freq_direct\", \"word_freq_cs\", \"word_freq_meeting\", \n",
    "         \"word_freq_original\", \"word_freq_project\", \"word_freq_re\", \n",
    "         \"word_freq_edu\", \"word_freq_table\", \"word_freq_conference\", \n",
    "         \"char_freq_;\", \"char_freq_(\", \"char_freq_[\", \"char_freq_!\", \n",
    "         \"char_freq_$\", \"char_freq_#\", \"capital_run_length_average\", \n",
    "         \"capital_run_length_longest\", \"capital_run_length_total\",\n",
    "         \"is_spam\"]\n",
    "\n",
    "data = pd.read_csv('https://raw.githubusercontent.com/PacktPublishing/Supervised-Machine-Learning-with-Python/master/examples/data/spam.csv', header= None, names=names)\n",
    "\n",
    "y = data.pop('is_spam')\n",
    "x = data\n",
    "\n"
   ]
  },
  {
   "cell_type": "code",
   "execution_count": 6,
   "id": "ba42a70e",
   "metadata": {},
   "outputs": [
    {
     "name": "stdout",
     "output_type": "stream",
     "text": [
      "Num of training examples 3680\n",
      "Num of test examples 921\n"
     ]
    }
   ],
   "source": [
    "from sklearn.model_selection import train_test_split\n",
    "\n",
    "x_train, x_test, y_train, y_test = train_test_split(x, y, test_size=0.2, random_state=42, stratify=y)\n",
    "\n",
    "print('Num of training examples %i' %x_train.shape[0])\n",
    "print('Num of test examples %i' %x_test.shape[0])\n"
   ]
  },
  {
   "cell_type": "code",
   "execution_count": 7,
   "id": "ad8a7da4",
   "metadata": {},
   "outputs": [
    {
     "name": "stdout",
     "output_type": "stream",
     "text": [
      "(7,)\n"
     ]
    }
   ],
   "source": [
    "import numpy as np\n",
    "\n",
    "x1 = np.array([2500,2250, 3500, 4000, 1890, 1200, 2630])\n",
    "print(x1.shape)"
   ]
  },
  {
   "cell_type": "code",
   "execution_count": 8,
   "id": "2637f302",
   "metadata": {},
   "outputs": [
    {
     "data": {
      "text/plain": [
       "(7,)"
      ]
     },
     "execution_count": 8,
     "metadata": {},
     "output_type": "execute_result"
    }
   ],
   "source": [
    "x1.reshape(x1.shape[0], 1)\n",
    "x1.shape"
   ]
  },
  {
   "cell_type": "code",
   "execution_count": null,
   "id": "f225853f",
   "metadata": {},
   "outputs": [],
   "source": []
  }
 ],
 "metadata": {
  "kernelspec": {
   "display_name": "Python 3",
   "language": "python",
   "name": "python3"
  },
  "language_info": {
   "codemirror_mode": {
    "name": "ipython",
    "version": 3
   },
   "file_extension": ".py",
   "mimetype": "text/x-python",
   "name": "python",
   "nbconvert_exporter": "python",
   "pygments_lexer": "ipython3",
   "version": "3.8.8"
  }
 },
 "nbformat": 4,
 "nbformat_minor": 5
}
