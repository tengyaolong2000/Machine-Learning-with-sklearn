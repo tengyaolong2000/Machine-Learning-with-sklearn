{
 "cells": [
  {
   "cell_type": "code",
   "execution_count": 9,
   "id": "ae1f0f5f",
   "metadata": {},
   "outputs": [
    {
     "name": "stdout",
     "output_type": "stream",
     "text": [
      "(178, 13) (178, 1)\n"
     ]
    }
   ],
   "source": [
    "from sklearn.datasets import load_wine\n",
    "from sklearn.model_selection import train_test_split\n",
    "import pandas as pd\n",
    "import numpy as np\n",
    "\n",
    "data = load_wine()\n",
    "X = pd.DataFrame(data.data)\n",
    "Y = pd.DataFrame(data.target)\n",
    "\n",
    "print(X.shape, Y.shape)"
   ]
  },
  {
   "cell_type": "code",
   "execution_count": 10,
   "id": "2c395fdb",
   "metadata": {},
   "outputs": [
    {
     "name": "stdout",
     "output_type": "stream",
     "text": [
      "(142, 13) (36, 13) (142, 1) (36, 1)\n"
     ]
    }
   ],
   "source": [
    "X, X_test, Y, Y_test = train_test_split(X, Y, test_size=0.2)\n",
    "print(X.shape, X_test.shape, Y.shape, Y_test.shape)"
   ]
  },
  {
   "cell_type": "code",
   "execution_count": 14,
   "id": "843a7534",
   "metadata": {},
   "outputs": [
    {
     "name": "stdout",
     "output_type": "stream",
     "text": [
      "(106, 13) (36, 13) (106, 1) (36, 1)\n"
     ]
    }
   ],
   "source": [
    "valid_ratio = X_test.shape[0]/X.shape[0]\n",
    "\n",
    "X_train, X_valid, Y_train, Y_valid = train_test_split(X, Y, test_size=valid_ratio)\n",
    "print(X_train.shape, X_valid.shape, Y_train.shape, Y_valid.shape)"
   ]
  },
  {
   "cell_type": "code",
   "execution_count": 27,
   "id": "55fd2db8",
   "metadata": {},
   "outputs": [],
   "source": [
    "from sklearn.model_selection import KFold\n",
    "data1 = load_wine()\n",
    "X1= pd.DataFrame(data.data)\n",
    "Y1=pd.DataFrame(data.target)\n",
    "\n",
    "X1, X1_test, Y1, Y1_test = train_test_split(X1, Y1, test_size = 0.10)\n",
    "kf = KFold(n_splits = 10)\n",
    "splits = kf.split(X1)\n",
    "\n",
    "\n",
    "\n"
   ]
  },
  {
   "cell_type": "code",
   "execution_count": 28,
   "id": "c00c9099",
   "metadata": {},
   "outputs": [
    {
     "name": "stdout",
     "output_type": "stream",
     "text": [
      "(144, 13) (16, 13) (144, 1) (16, 1)\n",
      "(144, 13) (16, 13) (144, 1) (16, 1)\n",
      "(144, 13) (16, 13) (144, 1) (16, 1)\n",
      "(144, 13) (16, 13) (144, 1) (16, 1)\n",
      "(144, 13) (16, 13) (144, 1) (16, 1)\n",
      "(144, 13) (16, 13) (144, 1) (16, 1)\n",
      "(144, 13) (16, 13) (144, 1) (16, 1)\n",
      "(144, 13) (16, 13) (144, 1) (16, 1)\n",
      "(144, 13) (16, 13) (144, 1) (16, 1)\n",
      "(144, 13) (16, 13) (144, 1) (16, 1)\n"
     ]
    }
   ],
   "source": [
    "for train_index, test_index in splits:\n",
    "    X1_train, X1_dev = X1.iloc[train_index, :], X1.iloc[test_index,:]\n",
    "    Y1_train, Y1_dev = Y1.iloc[train_index, :], Y1.iloc[test_index,:]\n",
    "    \n",
    "    print(X1_train.shape, X1_dev.shape, Y1_train.shape, Y1_dev.shape)"
   ]
  },
  {
   "cell_type": "code",
   "execution_count": null,
   "id": "b9848831",
   "metadata": {},
   "outputs": [],
   "source": []
  }
 ],
 "metadata": {
  "kernelspec": {
   "display_name": "Python 3",
   "language": "python",
   "name": "python3"
  },
  "language_info": {
   "codemirror_mode": {
    "name": "ipython",
    "version": 3
   },
   "file_extension": ".py",
   "mimetype": "text/x-python",
   "name": "python",
   "nbconvert_exporter": "python",
   "pygments_lexer": "ipython3",
   "version": "3.8.8"
  }
 },
 "nbformat": 4,
 "nbformat_minor": 5
}
