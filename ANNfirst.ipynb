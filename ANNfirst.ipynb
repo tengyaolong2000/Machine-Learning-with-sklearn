{
 "cells": [
  {
   "cell_type": "code",
   "execution_count": 2,
   "id": "d4bfc7e3",
   "metadata": {},
   "outputs": [
    {
     "data": {
      "text/plain": [
       "MLPClassifier(max_iter=1200, random_state=101)"
      ]
     },
     "execution_count": 2,
     "metadata": {},
     "output_type": "execute_result"
    }
   ],
   "source": [
    "import pandas as pd\n",
    "from sklearn.neural_network import MLPClassifier\n",
    "from sklearn.metrics import accuracy_score\n",
    "\n",
    "data = pd.read_csv('https://raw.githubusercontent.com/PacktWorkshops/The-Machine-Learning-Workshop/master/Chapter04/Exercise4.01/fertility_Diagnosis.csv', header=None)\n",
    "\n",
    "X = data.iloc[:,:9]\n",
    "Y = data.iloc[:, 9]\n",
    "\n",
    "model = MLPClassifier(max_iter=1200, random_state=101)\n",
    "model.fit(X, Y)\n",
    "\n"
   ]
  },
  {
   "cell_type": "code",
   "execution_count": 5,
   "id": "a925064e",
   "metadata": {},
   "outputs": [
    {
     "name": "stdout",
     "output_type": "stream",
     "text": [
      "['N']\n",
      "0.98\n"
     ]
    }
   ],
   "source": [
    "Y_pred = model.predict([[-0.33,0.69,0,1,1,0,0.8,0,0.88]])\n",
    "print(Y_pred)\n",
    "\n",
    "pred = model.predict(X)\n",
    "accuracy_score = accuracy_score(Y, pred)\n",
    "print(accuracy_score)"
   ]
  },
  {
   "cell_type": "code",
   "execution_count": null,
   "id": "b4e685d0",
   "metadata": {},
   "outputs": [],
   "source": []
  }
 ],
 "metadata": {
  "kernelspec": {
   "display_name": "Python 3",
   "language": "python",
   "name": "python3"
  },
  "language_info": {
   "codemirror_mode": {
    "name": "ipython",
    "version": 3
   },
   "file_extension": ".py",
   "mimetype": "text/x-python",
   "name": "python",
   "nbconvert_exporter": "python",
   "pygments_lexer": "ipython3",
   "version": "3.8.8"
  }
 },
 "nbformat": 4,
 "nbformat_minor": 5
}
