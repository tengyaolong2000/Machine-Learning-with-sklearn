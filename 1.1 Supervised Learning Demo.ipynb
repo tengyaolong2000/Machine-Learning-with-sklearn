{
 "cells": [
  {
   "cell_type": "markdown",
   "metadata": {},
   "source": [
    "# Hands-on Supervised Machine Learning with Python\n",
    "\n",
    "In this example, we'll predict whether or not an email is spam."
   ]
  },
  {
   "cell_type": "markdown",
   "metadata": {},
   "source": [
    "## The Data\n",
    "\n",
    "You can find the data at the [UCI repository](https://archive.ics.uci.edu/ml/datasets/Spambase).\n",
    "\n",
    "### Files:\n",
    "\n",
    "1. [Spam data](https://archive.ics.uci.edu/ml/machine-learning-databases/spambase/spambase.data)\n",
    "2. [Metadata](https://archive.ics.uci.edu/ml/machine-learning-databases/spambase/spambase.names)\n",
    "3. [Documentation](https://archive.ics.uci.edu/ml/machine-learning-databases/spambase/spambase.DOCUMENTATION)\n",
    "\n",
    "## Reference\n",
    "\n",
    "__Creators:__\n",
    "\n",
    "*Mark Hopkins, Erik Reeber, George Forman, Jaap Suermondt \n",
    "Hewlett-Packard Labs, 1501 Page Mill Rd., Palo Alto, CA 94304 *\n",
    "\n",
    "__Data Set Information:__\n",
    "\n",
    "*The \"spam\" concept is diverse: advertisements for products/web sites, make money fast schemes, chain letters, etc...*\n",
    "\n",
    "*Our collection of spam e-mails came from our postmaster and individuals who had filed spam. Our collection of non-spam e-mails came from filed work and personal e-mails, and hence the word 'george' and the area code '650' are indicators of non-spam. These are useful when constructing a personalized spam filter. One would either have to blind such non-spam indicators or get a very wide collection of non-spam to generate a general purpose spam filter. *\n",
    "\n",
    "__For background on spam: __\n",
    "\n",
    "*Cranor, Lorrie F., LaMacchia, Brian A. Spam! \n",
    "Communications of the ACM, 41(8):74-83, 1998. *\n"
   ]
  },
  {
   "cell_type": "code",
   "execution_count": 43,
   "metadata": {},
   "outputs": [
    {
     "name": "stdout",
     "output_type": "stream",
     "text": [
      "Found proxy settings\n",
      "Already have data/spam.csv; will not download\n"
     ]
    }
   ],
   "source": [
    "from urllib.request import urlretrieve, ProxyHandler, build_opener, install_opener\n",
    "import requests\n",
    "import os\n",
    "\n",
    "pfx = \"https://archive.ics.uci.edu/ml/machine-learning-databases/spambase/\"\n",
    "data_dir = \"data\"\n",
    "    \n",
    "# We might need to set a proxy handler...\n",
    "try:\n",
    "    proxies = {\"http\": os.environ['http_proxy'],\n",
    "               \"https\": os.environ['https_proxy']}\n",
    "    print(\"Found proxy settings\")\n",
    "\n",
    "    #create the proxy object, assign it to a variable\n",
    "    proxy = ProxyHandler(proxies)\n",
    "    # construct a new opener using your proxy settings\n",
    "    opener = build_opener(proxy)\n",
    "    # install the opener on the module-level\n",
    "    install_opener(opener)\n",
    "    \n",
    "except KeyError:\n",
    "    pass\n",
    "\n",
    "\n",
    "# The following will download the data if you don't already have it...\n",
    "def get_data(link, where):\n",
    "    # Append the prefix\n",
    "    link = pfx + link\n",
    "    \n",
    "    # make the parent dir if its not there\n",
    "    if not os.path.exists(data_dir):\n",
    "        os.mkdir(data_dir)\n",
    "        \n",
    "    # download if necessary\n",
    "    if os.path.exists(where):\n",
    "        print(\"Already have %s; will not download\" % where)\n",
    "        return\n",
    "    \n",
    "    print(\"Downloading %s to %s\" % (link, where))\n",
    "    urlretrieve(link, where)\n",
    "    \n",
    "\n",
    "# Get the core spam data\n",
    "get_data(link=\"spambase.data\", where=os.path.join(data_dir, \"spam.csv\"))"
   ]
  },
  {
   "cell_type": "markdown",
   "metadata": {},
   "source": [
    "## Load and split our data\n",
    "\n",
    "We've now downloaded the data into the `data/` directory. Let's load it into Pandas and do a bit of exploring..."
   ]
  },
  {
   "cell_type": "code",
   "execution_count": 44,
   "metadata": {},
   "outputs": [
    {
     "data": {
      "text/html": [
       "<div>\n",
       "<table border=\"1\" class=\"dataframe\">\n",
       "  <thead>\n",
       "    <tr style=\"text-align: right;\">\n",
       "      <th></th>\n",
       "      <th>word_freq_make</th>\n",
       "      <th>word_freq_address</th>\n",
       "      <th>word_freq_all</th>\n",
       "      <th>word_freq_3d</th>\n",
       "      <th>word_freq_our</th>\n",
       "      <th>word_freq_over</th>\n",
       "      <th>word_freq_remove</th>\n",
       "      <th>word_freq_internet</th>\n",
       "      <th>word_freq_order</th>\n",
       "      <th>word_freq_mail</th>\n",
       "      <th>...</th>\n",
       "      <th>word_freq_conference</th>\n",
       "      <th>char_freq_;</th>\n",
       "      <th>char_freq_(</th>\n",
       "      <th>char_freq_[</th>\n",
       "      <th>char_freq_!</th>\n",
       "      <th>char_freq_$</th>\n",
       "      <th>char_freq_#</th>\n",
       "      <th>capital_run_length_average</th>\n",
       "      <th>capital_run_length_longest</th>\n",
       "      <th>capital_run_length_total</th>\n",
       "    </tr>\n",
       "  </thead>\n",
       "  <tbody>\n",
       "    <tr>\n",
       "      <th>0</th>\n",
       "      <td>0.00</td>\n",
       "      <td>0.64</td>\n",
       "      <td>0.64</td>\n",
       "      <td>0.0</td>\n",
       "      <td>0.32</td>\n",
       "      <td>0.00</td>\n",
       "      <td>0.00</td>\n",
       "      <td>0.00</td>\n",
       "      <td>0.00</td>\n",
       "      <td>0.00</td>\n",
       "      <td>...</td>\n",
       "      <td>0.0</td>\n",
       "      <td>0.00</td>\n",
       "      <td>0.000</td>\n",
       "      <td>0.0</td>\n",
       "      <td>0.778</td>\n",
       "      <td>0.000</td>\n",
       "      <td>0.000</td>\n",
       "      <td>3.756</td>\n",
       "      <td>61</td>\n",
       "      <td>278</td>\n",
       "    </tr>\n",
       "    <tr>\n",
       "      <th>1</th>\n",
       "      <td>0.21</td>\n",
       "      <td>0.28</td>\n",
       "      <td>0.50</td>\n",
       "      <td>0.0</td>\n",
       "      <td>0.14</td>\n",
       "      <td>0.28</td>\n",
       "      <td>0.21</td>\n",
       "      <td>0.07</td>\n",
       "      <td>0.00</td>\n",
       "      <td>0.94</td>\n",
       "      <td>...</td>\n",
       "      <td>0.0</td>\n",
       "      <td>0.00</td>\n",
       "      <td>0.132</td>\n",
       "      <td>0.0</td>\n",
       "      <td>0.372</td>\n",
       "      <td>0.180</td>\n",
       "      <td>0.048</td>\n",
       "      <td>5.114</td>\n",
       "      <td>101</td>\n",
       "      <td>1028</td>\n",
       "    </tr>\n",
       "    <tr>\n",
       "      <th>2</th>\n",
       "      <td>0.06</td>\n",
       "      <td>0.00</td>\n",
       "      <td>0.71</td>\n",
       "      <td>0.0</td>\n",
       "      <td>1.23</td>\n",
       "      <td>0.19</td>\n",
       "      <td>0.19</td>\n",
       "      <td>0.12</td>\n",
       "      <td>0.64</td>\n",
       "      <td>0.25</td>\n",
       "      <td>...</td>\n",
       "      <td>0.0</td>\n",
       "      <td>0.01</td>\n",
       "      <td>0.143</td>\n",
       "      <td>0.0</td>\n",
       "      <td>0.276</td>\n",
       "      <td>0.184</td>\n",
       "      <td>0.010</td>\n",
       "      <td>9.821</td>\n",
       "      <td>485</td>\n",
       "      <td>2259</td>\n",
       "    </tr>\n",
       "    <tr>\n",
       "      <th>3</th>\n",
       "      <td>0.00</td>\n",
       "      <td>0.00</td>\n",
       "      <td>0.00</td>\n",
       "      <td>0.0</td>\n",
       "      <td>0.63</td>\n",
       "      <td>0.00</td>\n",
       "      <td>0.31</td>\n",
       "      <td>0.63</td>\n",
       "      <td>0.31</td>\n",
       "      <td>0.63</td>\n",
       "      <td>...</td>\n",
       "      <td>0.0</td>\n",
       "      <td>0.00</td>\n",
       "      <td>0.137</td>\n",
       "      <td>0.0</td>\n",
       "      <td>0.137</td>\n",
       "      <td>0.000</td>\n",
       "      <td>0.000</td>\n",
       "      <td>3.537</td>\n",
       "      <td>40</td>\n",
       "      <td>191</td>\n",
       "    </tr>\n",
       "    <tr>\n",
       "      <th>4</th>\n",
       "      <td>0.00</td>\n",
       "      <td>0.00</td>\n",
       "      <td>0.00</td>\n",
       "      <td>0.0</td>\n",
       "      <td>0.63</td>\n",
       "      <td>0.00</td>\n",
       "      <td>0.31</td>\n",
       "      <td>0.63</td>\n",
       "      <td>0.31</td>\n",
       "      <td>0.63</td>\n",
       "      <td>...</td>\n",
       "      <td>0.0</td>\n",
       "      <td>0.00</td>\n",
       "      <td>0.135</td>\n",
       "      <td>0.0</td>\n",
       "      <td>0.135</td>\n",
       "      <td>0.000</td>\n",
       "      <td>0.000</td>\n",
       "      <td>3.537</td>\n",
       "      <td>40</td>\n",
       "      <td>191</td>\n",
       "    </tr>\n",
       "  </tbody>\n",
       "</table>\n",
       "<p>5 rows × 57 columns</p>\n",
       "</div>"
      ],
      "text/plain": [
       "   word_freq_make  word_freq_address  word_freq_all  word_freq_3d  \\\n",
       "0            0.00               0.64           0.64           0.0   \n",
       "1            0.21               0.28           0.50           0.0   \n",
       "2            0.06               0.00           0.71           0.0   \n",
       "3            0.00               0.00           0.00           0.0   \n",
       "4            0.00               0.00           0.00           0.0   \n",
       "\n",
       "   word_freq_our  word_freq_over  word_freq_remove  word_freq_internet  \\\n",
       "0           0.32            0.00              0.00                0.00   \n",
       "1           0.14            0.28              0.21                0.07   \n",
       "2           1.23            0.19              0.19                0.12   \n",
       "3           0.63            0.00              0.31                0.63   \n",
       "4           0.63            0.00              0.31                0.63   \n",
       "\n",
       "   word_freq_order  word_freq_mail            ...             \\\n",
       "0             0.00            0.00            ...              \n",
       "1             0.00            0.94            ...              \n",
       "2             0.64            0.25            ...              \n",
       "3             0.31            0.63            ...              \n",
       "4             0.31            0.63            ...              \n",
       "\n",
       "   word_freq_conference  char_freq_;  char_freq_(  char_freq_[  char_freq_!  \\\n",
       "0                   0.0         0.00        0.000          0.0        0.778   \n",
       "1                   0.0         0.00        0.132          0.0        0.372   \n",
       "2                   0.0         0.01        0.143          0.0        0.276   \n",
       "3                   0.0         0.00        0.137          0.0        0.137   \n",
       "4                   0.0         0.00        0.135          0.0        0.135   \n",
       "\n",
       "   char_freq_$  char_freq_#  capital_run_length_average  \\\n",
       "0        0.000        0.000                       3.756   \n",
       "1        0.180        0.048                       5.114   \n",
       "2        0.184        0.010                       9.821   \n",
       "3        0.000        0.000                       3.537   \n",
       "4        0.000        0.000                       3.537   \n",
       "\n",
       "   capital_run_length_longest  capital_run_length_total  \n",
       "0                          61                       278  \n",
       "1                         101                      1028  \n",
       "2                         485                      2259  \n",
       "3                          40                       191  \n",
       "4                          40                       191  \n",
       "\n",
       "[5 rows x 57 columns]"
      ]
     },
     "execution_count": 44,
     "metadata": {},
     "output_type": "execute_result"
    }
   ],
   "source": [
    "import pandas as pd\n",
    "\n",
    "names = [\"word_freq_make\", \"word_freq_address\", \"word_freq_all\", \n",
    "         \"word_freq_3d\", \"word_freq_our\", \"word_freq_over\", \n",
    "         \"word_freq_remove\", \"word_freq_internet\", \"word_freq_order\", \n",
    "         \"word_freq_mail\", \"word_freq_receive\", \"word_freq_will\", \n",
    "         \"word_freq_people\", \"word_freq_report\", \"word_freq_addresses\", \n",
    "         \"word_freq_free\", \"word_freq_business\", \"word_freq_email\", \n",
    "         \"word_freq_you\", \"word_freq_credit\", \"word_freq_your\", \n",
    "         \"word_freq_font\", \"word_freq_000\", \"word_freq_money\", \n",
    "         \"word_freq_hp\", \"word_freq_hpl\", \"word_freq_george\", \n",
    "         \"word_freq_650\", \"word_freq_lab\", \"word_freq_labs\", \n",
    "         \"word_freq_telnet\", \"word_freq_857\", \"word_freq_data\", \n",
    "         \"word_freq_415\", \"word_freq_85\", \"word_freq_technology\", \n",
    "         \"word_freq_1999\", \"word_freq_parts\", \"word_freq_pm\", \n",
    "         \"word_freq_direct\", \"word_freq_cs\", \"word_freq_meeting\", \n",
    "         \"word_freq_original\", \"word_freq_project\", \"word_freq_re\", \n",
    "         \"word_freq_edu\", \"word_freq_table\", \"word_freq_conference\", \n",
    "         \"char_freq_;\", \"char_freq_(\", \"char_freq_[\", \"char_freq_!\", \n",
    "         \"char_freq_$\", \"char_freq_#\", \"capital_run_length_average\", \n",
    "         \"capital_run_length_longest\", \"capital_run_length_total\",\n",
    "         \"is_spam\"]\n",
    "\n",
    "df = pd.read_csv(os.path.join(\"data\", \"spam.csv\"), header=None, names=names)\n",
    "\n",
    "# pop off the target\n",
    "y = df.pop(\"is_spam\")\n",
    "df.head()"
   ]
  },
  {
   "cell_type": "code",
   "execution_count": 45,
   "metadata": {},
   "outputs": [
    {
     "name": "stdout",
     "output_type": "stream",
     "text": [
      "Num training samples: 3680\n",
      "Num test samples: 921\n"
     ]
    }
   ],
   "source": [
    "from sklearn.model_selection import train_test_split\n",
    "\n",
    "X_train, X_test, y_train, y_test = train_test_split(df, y, test_size=0.2, random_state=42, stratify=y)\n",
    "\n",
    "print(\"Num training samples: %i\" % X_train.shape[0])\n",
    "print(\"Num test samples: %i\" % X_test.shape[0])"
   ]
  },
  {
   "cell_type": "markdown",
   "metadata": {},
   "source": [
    "## Fit several models\n",
    "\n",
    "We're going to fit a series of models and look at how they perform. To evaluate our model, we'll examine learning curves. This will help us diagnose potentially high-variance or high-bias problems.\n",
    "\n",
    "### Decision tree classifier"
   ]
  },
  {
   "cell_type": "code",
   "execution_count": 46,
   "metadata": {},
   "outputs": [
    {
     "name": "stdout",
     "output_type": "stream",
     "text": [
      "Completed fitting 3 folds for train size=920\n",
      "Completed fitting 3 folds for train size=1533\n",
      "Completed fitting 3 folds for train size=2146\n",
      "Completed fitting 3 folds for train size=2760\n"
     ]
    },
    {
     "data": {
      "image/png": "[encoded data removed]",
      "text/plain": [
       "<matplotlib.figure.Figure at 0x103ab8ac8>"
      ]
     },
     "metadata": {},
     "output_type": "display_data"
    }
   ],
   "source": [
    "from packtml.utils.plotting import plot_learning_curve\n",
    "from packtml.decision_tree import CARTClassifier\n",
    "from sklearn.metrics import accuracy_score\n",
    "import numpy as np\n",
    "import matplotlib.pyplot as plt\n",
    "%matplotlib inline\n",
    "    \n",
    "# very basic decision tree\n",
    "plot_learning_curve(\n",
    "        CARTClassifier, metric=accuracy_score,\n",
    "        X=X_train, y=y_train, n_folds=3, seed=21, trace=True,\n",
    "        train_sizes=(np.linspace(.25, .75, 4) * X_train.shape[0]).astype(int),\n",
    "        max_depth=8, random_state=42)\\\n",
    "    .show()"
   ]
  },
  {
   "cell_type": "code",
   "execution_count": 47,
   "metadata": {
    "collapsed": true
   },
   "outputs": [],
   "source": [
    "# Let's fit that decision tree so we can use it later...\n",
    "decision_tree = CARTClassifier(X_train, y_train, random_state=42, max_depth=8)"
   ]
  },
  {
   "cell_type": "markdown",
   "metadata": {},
   "source": [
    "### Simple logistic regression"
   ]
  },
  {
   "cell_type": "code",
   "execution_count": 48,
   "metadata": {},
   "outputs": [
    {
     "name": "stdout",
     "output_type": "stream",
     "text": [
      "Completed fitting 3 folds for train size=920\n",
      "Completed fitting 3 folds for train size=1594\n",
      "Completed fitting 3 folds for train size=2269\n",
      "Completed fitting 3 folds for train size=2944\n"
     ]
    },
    {
     "data": {
      "image/png": "[encoded data removed]",
      "text/plain": [
       "<matplotlib.figure.Figure at 0x1508898cf8>"
      ]
     },
     "metadata": {},
     "output_type": "display_data"
    }
   ],
   "source": [
    "from packtml.regression import SimpleLogisticRegression\n",
    "\n",
    "# simple logistic regression classifier\n",
    "plot_learning_curve(\n",
    "        SimpleLogisticRegression, metric=accuracy_score,\n",
    "        X=X_train, y=y_train, n_folds=3, seed=21, trace=True,\n",
    "        train_sizes=(np.linspace(.25, .8, 4) * X_train.shape[0]).astype(int),\n",
    "        n_steps=250, learning_rate=0.0025, loglik_interval=100)\\\n",
    "    .show()"
   ]
  },
  {
   "cell_type": "code",
   "execution_count": 49,
   "metadata": {
    "collapsed": true
   },
   "outputs": [],
   "source": [
    "# Let's fit that logistic regression so we can use it later...\n",
    "logistic_regression = SimpleLogisticRegression(\n",
    "    X_train, y_train, n_steps=250, learning_rate=0.0025,\n",
    "    loglik_interval=100)"
   ]
  },
  {
   "cell_type": "markdown",
   "metadata": {
    "collapsed": true
   },
   "source": [
    "## Can they classify emails we make up?\n",
    "\n",
    "Here is the documentation for the data from UCI:\n",
    "\n",
    "    | SPAM E-MAIL DATABASE ATTRIBUTES (in .names format)\n",
    "    |\n",
    "    | 48 continuous real [0,100] attributes of type word_freq_WORD \n",
    "    | = percentage of words in the e-mail that match WORD,\n",
    "    | i.e. 100 * (number of times the WORD appears in the e-mail) / \n",
    "    | total number of words in e-mail.  A \"word\" in this case is any \n",
    "    | string of alphanumeric characters bounded by non-alphanumeric \n",
    "    | characters or end-of-string.\n",
    "    |\n",
    "    | 6 continuous real [0,100] attributes of type char_freq_CHAR\n",
    "    | = percentage of characters in the e-mail that match CHAR,\n",
    "    | i.e. 100 * (number of CHAR occurences) / total characters in e-mail\n",
    "    |\n",
    "    | 1 continuous real [1,...] attribute of type capital_run_length_average\n",
    "    | = average length of uninterrupted sequences of capital letters\n",
    "    |\n",
    "    | 1 continuous integer [1,...] attribute of type capital_run_length_longest\n",
    "    | = length of longest uninterrupted sequence of capital letters\n",
    "    |\n",
    "    | 1 continuous integer [1,...] attribute of type capital_run_length_total\n",
    "    | = sum of length of uninterrupted sequences of capital letters\n",
    "    | = total number of capital letters in the e-mail\n",
    "    |\n",
    "    | 1 nominal {0,1} class attribute of type spam\n",
    "    | = denotes whether the e-mail was considered spam (1) or not (0), \n",
    "    | i.e. unsolicited commercial e-mail.  \n",
    "    |\n",
    "    | For more information, see file 'spambase.DOCUMENTATION' at the\n",
    "    | UCI Machine Learning Repository: http://www.ics.uci.edu/~mlearn/MLRepository.html\n",
    "    \n",
    "Let's make some transformers that can transform an email message into a vector of length 48, and then feed them into our algorithms to predict whether they're spam or not."
   ]
  },
  {
   "cell_type": "markdown",
   "metadata": {},
   "source": [
    "### The first email (obvious spam):"
   ]
  },
  {
   "cell_type": "code",
   "execution_count": 50,
   "metadata": {},
   "outputs": [
    {
     "name": "stdout",
     "output_type": "stream",
     "text": [
      "\n",
      "Dear small business owner,\n",
      "    \n",
      "This email is to inform you that for $0 down, you can receive a \n",
      "FREE CREDIT REPORT!!! Your money is important; PROTECT YOUR CREDIT and \n",
      "reply direct to us for assistance!\n",
      "\n"
     ]
    }
   ],
   "source": [
    "spam_email = \"\"\"\n",
    "Dear small business owner,\n",
    "    \n",
    "This email is to inform you that for $0 down, you can receive a \n",
    "FREE CREDIT REPORT!!! Your money is important; PROTECT YOUR CREDIT and \n",
    "reply direct to us for assistance!\n",
    "\"\"\"\n",
    "\n",
    "print(spam_email)"
   ]
  },
  {
   "cell_type": "markdown",
   "metadata": {},
   "source": [
    "### The second email (not spam):"
   ]
  },
  {
   "cell_type": "code",
   "execution_count": 97,
   "metadata": {},
   "outputs": [
    {
     "name": "stdout",
     "output_type": "stream",
     "text": [
      "\n",
      "Hey George,\n",
      "    \n",
      "Make sure to be careful when checking your HP email. There has been a \n",
      "phishing attempt recently advertising a credit report. This is a known scam, \n",
      "and should be ignored. Please feel free to let me know if you have any\n",
      "questions or concerns, but the IT guys told me to warn everyone.\n",
      "\n"
     ]
    }
   ],
   "source": [
    "not_spam = \"\"\"\n",
    "Hey George,\n",
    "    \n",
    "Make sure to be careful when checking your HP email. There has been a \n",
    "phishing attempt recently advertising a credit report. This is a known scam, \n",
    "and should be ignored. Please feel free to let me know if you have any\n",
    "questions or concerns, but the IT guys told me to warn everyone.\n",
    "\"\"\"\n",
    "\n",
    "print(not_spam)"
   ]
  },
  {
   "cell_type": "markdown",
   "metadata": {},
   "source": [
    "\n",
    "Now we need to do a bit of finagling to get our emails into a consumable format."
   ]
  },
  {
   "cell_type": "code",
   "execution_count": 98,
   "metadata": {},
   "outputs": [],
   "source": [
    "from collections import Counter\n",
    "import numpy as np\n",
    "\n",
    "def encode_email(email):\n",
    "    # tokenize the email\n",
    "    tokens = email.split()\n",
    "    \n",
    "    # easiest way to count characters will be to join everything\n",
    "    # up and split them into chars, then use a counter to count them\n",
    "    # all ONE time.\n",
    "    chars = list(\"\".join(tokens))\n",
    "    char_counts = Counter(chars)\n",
    "    n_chars = len(chars)\n",
    "    \n",
    "    # we can do the same thing with \"tokens\" to get counts of words\n",
    "    # (but we want them to be lowercase!)\n",
    "    word_counts = Counter([t.lower() for t in tokens])\n",
    "    \n",
    "    # Of the names above, the ones that start with \"word\" are\n",
    "    # percentages of frequencies of words. Let's get the words\n",
    "    # in question\n",
    "    freq_words = [ \n",
    "        name.split(\"_\")[-1]\n",
    "        for name in names \n",
    "        if name.startswith(\"word\")\n",
    "    ]\n",
    "    \n",
    "    # compile the first 48 values using the words in question\n",
    "    word_freq_encodings = [100. * (word_counts.get(t, 0) / len(tokens))\n",
    "                           for t in freq_words]\n",
    "    \n",
    "    # The same applies to names that start with \"char\". These are the\n",
    "    # characters that we're interested in counting:  ;, (, [, !, $, #\n",
    "    freq_chars = [ \n",
    "        name.split(\"_\")[-1]\n",
    "        for name in names \n",
    "        if name.startswith(\"char\")\n",
    "    ]\n",
    "    \n",
    "    char_freq_encodings = [100. * (char_counts.get(c, 0) / len(chars))\n",
    "                           for c in freq_chars]\n",
    "    \n",
    "    # now we can compute the more nuanced features that look for\n",
    "    # runs of capitalization, etc. We can find all the runs of capitals\n",
    "    # in one single pass of O(N)\n",
    "    capital_runs = []  # type: list[int]\n",
    "    in_run = False  # are we currently in a run?\n",
    "    run_len = 0  # what's the current run len?\n",
    "    for c in chars:\n",
    "        capital = c.isupper()\n",
    "        \n",
    "        if capital:\n",
    "            # if we are NOT in a run, we need to start one\n",
    "            if not in_run:\n",
    "                in_run = True\n",
    "            # always increment run length\n",
    "            run_len += 1\n",
    "            \n",
    "        else:\n",
    "            # if we were NOT in a run, we do not need to do anything.\n",
    "            # if we WERE in a run, finalize it\n",
    "            if in_run:\n",
    "                in_run = False\n",
    "                capital_runs.append(run_len)\n",
    "                run_len = 0\n",
    "                \n",
    "    # make a np array to compute the next few stats quickly\n",
    "    capital_runs = np.asarray(capital_runs)\n",
    "    capital_stats = [capital_runs.mean(), \n",
    "                     capital_runs.max(), \n",
    "                     capital_runs.sum()]\n",
    "                \n",
    "    # return them as a numpy array all concatenated\n",
    "    return np.array(word_freq_encodings + char_freq_encodings + capital_stats)"
   ]
  },
  {
   "cell_type": "code",
   "execution_count": 99,
   "metadata": {},
   "outputs": [
    {
     "name": "stdout",
     "output_type": "stream",
     "text": [
      "Spam email:\n",
      "[  0.           0.           0.           0.           0.           0.           0.\n",
      "   0.           0.           0.           2.85714286   0.           0.           0.\n",
      "   0.           2.85714286   2.85714286   2.85714286   5.71428571\n",
      "   5.71428571   5.71428571   0.           0.           2.85714286   0.           0.\n",
      "   0.           0.           0.           0.           0.           0.           0.\n",
      "   0.           0.           0.           0.           0.           0.\n",
      "   2.85714286   0.           0.           0.           0.           0.           0.\n",
      "   0.           0.           0.61728395   0.           0.           2.4691358\n",
      "   0.61728395   0.           7.2         17.          36.        ]\n",
      "\n",
      "Real email:\n",
      "[  1.81818182   0.           0.           0.           0.           0.           0.\n",
      "   0.           0.           0.           0.           0.           0.           0.\n",
      "   0.           1.81818182   0.           0.           1.81818182\n",
      "   1.81818182   1.81818182   0.           0.           0.           1.81818182\n",
      "   0.           0.           0.           0.           0.           0.           0.\n",
      "   0.           0.           0.           0.           0.           0.           0.\n",
      "   0.           0.           0.           0.           0.           0.           0.\n",
      "   0.           0.           0.           0.           0.           0.           0.\n",
      "   0.           1.25         2.          10.        ]\n"
     ]
    }
   ],
   "source": [
    "# get the email vectors\n",
    "fake_email = encode_email(spam_email)\n",
    "real_email = encode_email(not_spam)\n",
    "\n",
    "# this is what they look like:\n",
    "print(\"Spam email:\")\n",
    "print(fake_email)\n",
    "print(\"\\nReal email:\")\n",
    "print(real_email)"
   ]
  },
  {
   "cell_type": "markdown",
   "metadata": {},
   "source": [
    "## Let's see if our models are any good!"
   ]
  },
  {
   "cell_type": "code",
   "execution_count": 100,
   "metadata": {},
   "outputs": [
    {
     "name": "stdout",
     "output_type": "stream",
     "text": [
      "Decision tree predictions:\n",
      "Spam email prediction: 'SPAM!'\n",
      "Real email prediction: 'Not spam'\n",
      "\n",
      "Logistic regression predictions:\n",
      "Spam email prediction: 'SPAM!'\n",
      "Real email prediction: 'Not spam'\n"
     ]
    }
   ],
   "source": [
    "predict = (lambda rec, mod: \"SPAM!\" if mod.predict([rec])[0] == 1 else \"Not spam\")\n",
    "\n",
    "print(\"Decision tree predictions:\")\n",
    "print(\"Spam email prediction: %r\" % predict(fake_email, decision_tree))\n",
    "print(\"Real email prediction: %r\" % predict(real_email, decision_tree))\n",
    "\n",
    "print(\"\\nLogistic regression predictions:\")\n",
    "print(\"Spam email prediction: %r\" % predict(fake_email, logistic_regression))\n",
    "print(\"Real email prediction: %r\" % predict(real_email, logistic_regression))"
   ]
  },
  {
   "cell_type": "code",
   "execution_count": null,
   "metadata": {
    "collapsed": true
   },
   "outputs": [],
   "source": []
  }
 ],
 "metadata": {
  "anaconda-cloud": {},
  "kernelspec": {
   "display_name": "Python 3",
   "language": "python",
   "name": "python3"
  },
  "language_info": {
   "codemirror_mode": {
    "name": "ipython",
    "version": 3
   },
   "file_extension": ".py",
   "mimetype": "text/x-python",
   "name": "python",
   "nbconvert_exporter": "python",
   "pygments_lexer": "ipython3",
   "version": "3.8.8"
  }
 },
 "nbformat": 4,
 "nbformat_minor": 1
}
