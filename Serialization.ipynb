{
 "cells": [
  {
   "cell_type": "code",
   "execution_count": 3,
   "id": "00efdc6a",
   "metadata": {},
   "outputs": [],
   "source": [
    "import pandas as pd\n",
    "from sklearn.neural_network import MLPClassifier\n",
    "import pickle\n",
    "import os\n",
    "\n",
    "data = pd.read_csv('https://raw.githubusercontent.com/PacktWorkshops/The-Machine-Learning-Workshop/master/Chapter06/Exercise6.01/fertility_Diagnosis.csv', header=None)\n",
    "\n",
    "X = data.iloc[:,:9]\n",
    "Y = data.iloc[:,9]\n",
    "\n",
    "model = MLPClassifier(max_iter=1200)\n",
    "model.fit(X, Y)\n",
    "\n",
    "path = os.getcwd() + \"/model_excercise.pkl\"\n",
    "file = open(path, \"wb\")\n",
    "pickle.dump(model, file)"
   ]
  },
  {
   "cell_type": "code",
   "execution_count": null,
   "id": "9fe55ef4",
   "metadata": {},
   "outputs": [],
   "source": []
  }
 ],
 "metadata": {
  "kernelspec": {
   "display_name": "Python 3",
   "language": "python",
   "name": "python3"
  },
  "language_info": {
   "codemirror_mode": {
    "name": "ipython",
    "version": 3
   },
   "file_extension": ".py",
   "mimetype": "text/x-python",
   "name": "python",
   "nbconvert_exporter": "python",
   "pygments_lexer": "ipython3",
   "version": "3.8.8"
  }
 },
 "nbformat": 4,
 "nbformat_minor": 5
}
