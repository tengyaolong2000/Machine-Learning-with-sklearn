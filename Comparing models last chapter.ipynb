{
 "cells": [
  {
   "cell_type": "code",
   "execution_count": 1,
   "id": "10f46490",
   "metadata": {},
   "outputs": [
    {
     "data": {
      "text/html": [
       "<div>\n",
       "<style scoped>\n",
       "    .dataframe tbody tr th:only-of-type {\n",
       "        vertical-align: middle;\n",
       "    }\n",
       "\n",
       "    .dataframe tbody tr th {\n",
       "        vertical-align: top;\n",
       "    }\n",
       "\n",
       "    .dataframe thead th {\n",
       "        text-align: right;\n",
       "    }\n",
       "</style>\n",
       "<table border=\"1\" class=\"dataframe\">\n",
       "  <thead>\n",
       "    <tr style=\"text-align: right;\">\n",
       "      <th></th>\n",
       "      <th>age</th>\n",
       "      <th>job</th>\n",
       "      <th>marital</th>\n",
       "      <th>education</th>\n",
       "      <th>default</th>\n",
       "      <th>balance</th>\n",
       "      <th>housing</th>\n",
       "      <th>loan</th>\n",
       "      <th>day</th>\n",
       "      <th>month</th>\n",
       "      <th>duration</th>\n",
       "      <th>campaign</th>\n",
       "      <th>pdays</th>\n",
       "      <th>previous</th>\n",
       "      <th>y</th>\n",
       "    </tr>\n",
       "  </thead>\n",
       "  <tbody>\n",
       "    <tr>\n",
       "      <th>0</th>\n",
       "      <td>58</td>\n",
       "      <td>management</td>\n",
       "      <td>married</td>\n",
       "      <td>tertiary</td>\n",
       "      <td>no</td>\n",
       "      <td>2143</td>\n",
       "      <td>yes</td>\n",
       "      <td>no</td>\n",
       "      <td>5</td>\n",
       "      <td>may</td>\n",
       "      <td>261</td>\n",
       "      <td>1</td>\n",
       "      <td>-1</td>\n",
       "      <td>0</td>\n",
       "      <td>no</td>\n",
       "    </tr>\n",
       "    <tr>\n",
       "      <th>1</th>\n",
       "      <td>44</td>\n",
       "      <td>technician</td>\n",
       "      <td>single</td>\n",
       "      <td>secondary</td>\n",
       "      <td>no</td>\n",
       "      <td>29</td>\n",
       "      <td>yes</td>\n",
       "      <td>no</td>\n",
       "      <td>5</td>\n",
       "      <td>may</td>\n",
       "      <td>151</td>\n",
       "      <td>1</td>\n",
       "      <td>-1</td>\n",
       "      <td>0</td>\n",
       "      <td>no</td>\n",
       "    </tr>\n",
       "    <tr>\n",
       "      <th>2</th>\n",
       "      <td>33</td>\n",
       "      <td>entrepreneur</td>\n",
       "      <td>married</td>\n",
       "      <td>secondary</td>\n",
       "      <td>no</td>\n",
       "      <td>2</td>\n",
       "      <td>yes</td>\n",
       "      <td>yes</td>\n",
       "      <td>5</td>\n",
       "      <td>may</td>\n",
       "      <td>76</td>\n",
       "      <td>1</td>\n",
       "      <td>-1</td>\n",
       "      <td>0</td>\n",
       "      <td>no</td>\n",
       "    </tr>\n",
       "    <tr>\n",
       "      <th>3</th>\n",
       "      <td>47</td>\n",
       "      <td>blue-collar</td>\n",
       "      <td>married</td>\n",
       "      <td>NaN</td>\n",
       "      <td>no</td>\n",
       "      <td>1506</td>\n",
       "      <td>yes</td>\n",
       "      <td>no</td>\n",
       "      <td>5</td>\n",
       "      <td>may</td>\n",
       "      <td>92</td>\n",
       "      <td>1</td>\n",
       "      <td>-1</td>\n",
       "      <td>0</td>\n",
       "      <td>no</td>\n",
       "    </tr>\n",
       "    <tr>\n",
       "      <th>4</th>\n",
       "      <td>33</td>\n",
       "      <td>NaN</td>\n",
       "      <td>single</td>\n",
       "      <td>NaN</td>\n",
       "      <td>no</td>\n",
       "      <td>1</td>\n",
       "      <td>no</td>\n",
       "      <td>no</td>\n",
       "      <td>5</td>\n",
       "      <td>may</td>\n",
       "      <td>198</td>\n",
       "      <td>1</td>\n",
       "      <td>-1</td>\n",
       "      <td>0</td>\n",
       "      <td>no</td>\n",
       "    </tr>\n",
       "  </tbody>\n",
       "</table>\n",
       "</div>"
      ],
      "text/plain": [
       "   age           job  marital  education default  balance housing loan  day  \\\n",
       "0   58    management  married   tertiary      no     2143     yes   no    5   \n",
       "1   44    technician   single  secondary      no       29     yes   no    5   \n",
       "2   33  entrepreneur  married  secondary      no        2     yes  yes    5   \n",
       "3   47   blue-collar  married        NaN      no     1506     yes   no    5   \n",
       "4   33           NaN   single        NaN      no        1      no   no    5   \n",
       "\n",
       "  month  duration  campaign  pdays  previous   y  \n",
       "0   may       261         1     -1         0  no  \n",
       "1   may       151         1     -1         0  no  \n",
       "2   may        76         1     -1         0  no  \n",
       "3   may        92         1     -1         0  no  \n",
       "4   may       198         1     -1         0  no  "
      ]
     },
     "execution_count": 1,
     "metadata": {},
     "output_type": "execute_result"
    }
   ],
   "source": [
    "import pandas as pd\n",
    "from sklearn.preprocessing import LabelEncoder\n",
    "from sklearn.model_selection import train_test_split\n",
    "from sklearn.tree import DecisionTreeClassifier\n",
    "from sklearn.neural_network import MLPClassifier\n",
    "from sklearn.metrics import precision_score\n",
    "\n",
    "data = pd.read_csv('/Users/tengyaolong/Desktop/Anaconda stuff/Learning/bank-full-dataset.csv')\n",
    "\n",
    "data = data.drop(['contact', 'poutcome', 'Unnamed: 0'], axis=1)\n",
    "\n",
    "data.head()"
   ]
  },
  {
   "cell_type": "code",
   "execution_count": 2,
   "id": "eabdf534",
   "metadata": {},
   "outputs": [],
   "source": [
    "enc = LabelEncoder()\n",
    "features_to_convert = ['job', 'marital', 'default', 'housing', 'loan', 'month', 'y']\n",
    "\n",
    "for i in features_to_convert:\n",
    "    data[i] = enc.fit_transform(data[i].astype('str'))\n",
    "\n",
    "    \n"
   ]
  },
  {
   "cell_type": "code",
   "execution_count": 3,
   "id": "e79f259e",
   "metadata": {},
   "outputs": [],
   "source": [
    "\n",
    "data['education'] = data['education'].fillna('unknown')\n",
    "encoder = ['unknown', 'primary', 'secondary', 'tertiary']\n",
    "\n",
    "for i, word in enumerate(encoder):\n",
    "    data['education'] = data['education'].astype('str').str.replace(word, str(i))\n",
    "\n",
    "data['education'] = data['education'].astype('int64')\n"
   ]
  },
  {
   "cell_type": "code",
   "execution_count": 4,
   "id": "c871ea21",
   "metadata": {},
   "outputs": [
    {
     "name": "stdout",
     "output_type": "stream",
     "text": [
      "{'age': [381, 45211], 'job': [0, 45211], 'marital': [0, 45211], 'education': [0, 45211], 'default': [815, 45211], 'balance': [745, 45211], 'housing': [0, 45211], 'loan': [0, 45211], 'day': [0, 45211], 'month': [0, 45211], 'duration': [963, 45211], 'campaign': [840, 45211], 'pdays': [1723, 45211], 'previous': [582, 45211], 'y': [0, 45211]}\n"
     ]
    }
   ],
   "source": [
    "outliers = {}\n",
    "\n",
    "for i in range(0, data.shape[1]):\n",
    "    max = data[data.columns[i]].mean() + 3*data[data.columns[i]].std()\n",
    "    min = data[data.columns[i]].mean() - 3*data[data.columns[i]].std()\n",
    "    outliers[data.columns[i]] = [(data[data.columns[i]]<=min).sum() + (data[data.columns[i]]>=max).sum(), data.shape[0]]\n",
    "print(outliers)"
   ]
  },
  {
   "cell_type": "code",
   "execution_count": 5,
   "id": "e790a054",
   "metadata": {},
   "outputs": [],
   "source": [
    "X = data.drop('y', axis=1)\n",
    "Y = data['y']\n",
    "\n",
    "X_new, X_test, Y_new, Y_test = train_test_split(X, Y, test_size=0.2)\n",
    "\n",
    "test_ratio = X_test.shape[0]/X_new.shape[0]\n",
    "\n",
    "X_train, X_dev, Y_train, Y_dev = train_test_split(X_new, Y_new, test_size=test_ratio)\n",
    "\n"
   ]
  },
  {
   "cell_type": "code",
   "execution_count": 6,
   "id": "05c588a8",
   "metadata": {},
   "outputs": [
    {
     "name": "stdout",
     "output_type": "stream",
     "text": [
      "[0.6465968586387435, 0.6181474480151229, 0.6033834586466166]\n"
     ]
    }
   ],
   "source": [
    "model_tree = DecisionTreeClassifier(min_samples_leaf=100, max_depth=70)\n",
    "model_tree.fit(X_train, Y_train)\n",
    "\n",
    "\n",
    "X_sets_tree = [X_train, X_dev, X_test]\n",
    "Y_sets_tree = [Y_train, Y_dev, Y_test]\n",
    "precision_tree = []\n",
    "\n",
    "\n",
    "for i in range(0, len(X_sets_tree)):\n",
    "    Y_pred_tree = model_tree.predict(X_sets_tree[i])\n",
    "    scores_tree = precision_score(Y_sets_tree[i], Y_pred_tree)\n",
    "    precision_tree.append(scores_tree)\n",
    "\n",
    "\n",
    "print(precision_tree)"
   ]
  },
  {
   "cell_type": "code",
   "execution_count": 15,
   "id": "dc862651",
   "metadata": {},
   "outputs": [
    {
     "name": "stdout",
     "output_type": "stream",
     "text": [
      "[0.6833996023856859, 0.5418569254185692, 0.5392749244712991]\n"
     ]
    }
   ],
   "source": [
    "model_ANN = MLPClassifier(max_iter=1000, hidden_layer_sizes=[100,100,50,25,25,50], tol=1e-4)\n",
    "model_ANN.fit(X_train, Y_train)\n",
    "\n",
    "X_sets_ANN = [X_train, X_dev, X_test]\n",
    "Y_sets_ANN = [Y_train, Y_dev, Y_test]\n",
    "precision_ANN = []\n",
    "\n",
    "\n",
    "for i in range(0, len(X_sets_ANN)):\n",
    "    Y_pred_ANN = model_ANN.predict(X_sets_ANN[i])\n",
    "    scores_ANN = precision_score(Y_sets_ANN[i], Y_pred_ANN)\n",
    "    precision_ANN.append(scores_ANN)\n",
    "\n",
    "    \n",
    "    \n",
    "print(precision_ANN)"
   ]
  },
  {
   "cell_type": "code",
   "execution_count": 16,
   "id": "96903fe8",
   "metadata": {},
   "outputs": [],
   "source": [
    "import os\n",
    "import pickle\n",
    "\n",
    "path = os.getcwd() + '/final_model.pkl'\n",
    "file = open(path, 'wb')\n",
    "pickle.dump(model_tree, file)"
   ]
  },
  {
   "cell_type": "code",
   "execution_count": null,
   "id": "2965e83f",
   "metadata": {},
   "outputs": [],
   "source": []
  }
 ],
 "metadata": {
  "kernelspec": {
   "display_name": "Python 3",
   "language": "python",
   "name": "python3"
  },
  "language_info": {
   "codemirror_mode": {
    "name": "ipython",
    "version": 3
   },
   "file_extension": ".py",
   "mimetype": "text/x-python",
   "name": "python",
   "nbconvert_exporter": "python",
   "pygments_lexer": "ipython3",
   "version": "3.8.8"
  }
 },
 "nbformat": 4,
 "nbformat_minor": 5
}
