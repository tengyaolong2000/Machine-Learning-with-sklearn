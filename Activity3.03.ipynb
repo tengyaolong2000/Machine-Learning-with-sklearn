{
 "cells": [
  {
   "cell_type": "code",
   "execution_count": 20,
   "id": "dc3e545c",
   "metadata": {},
   "outputs": [
    {
     "name": "stdout",
     "output_type": "stream",
     "text": [
      "(180, 64) (180, 1)\n"
     ]
    }
   ],
   "source": [
    "from sklearn.datasets import load_digits\n",
    "from sklearn.model_selection import train_test_split\n",
    "import numpy as np\n",
    "import pandas as pd\n",
    "from sklearn import tree\n",
    "from sklearn.metrics import accuracy_score\n",
    "\n",
    "data = load_digits()\n",
    "X = pd.DataFrame(data.data)\n",
    "Y = pd.DataFrame(data.target)\n",
    "\n",
    "X_new, X_test, Y_new, Y_test = train_test_split(X, Y, test_size=0.1, random_state=101)\n",
    "X_train, X_dev, Y_train, Y_dev = train_test_split(X_new, Y_new, test_size=X_test.shape[0]/X_new.shape[0], random_state=101)\n",
    "\n",
    "np.random.seed(101)\n",
    "\n",
    "train_indices = np.random.randint(0, len(X_train), 90)\n",
    "dev_indices = np.random.randint(0, len(X_dev), 90)\n",
    "\n",
    "X_train_dev = pd.concat([X_train.iloc[train_indices,:], X_dev.iloc[dev_indices,:]])\n",
    "\n",
    "Y_train_dev = pd.concat([Y_train.iloc[train_indices,:], Y_dev.iloc[dev_indices,:]])\n",
    "\n",
    "print(X_train_dev.shape, Y_train_dev.shape)\n",
    "\n",
    "\n"
   ]
  },
  {
   "cell_type": "code",
   "execution_count": 21,
   "id": "8d9016b2",
   "metadata": {},
   "outputs": [
    {
     "name": "stdout",
     "output_type": "stream",
     "text": [
      "{'X_train': 1.0, 'X_train_dev': 0.9444444444444444, 'X_dev': 0.8833333333333333, 'X_test': 0.8833333333333333}\n"
     ]
    }
   ],
   "source": [
    "model = tree.DecisionTreeClassifier(random_state=101)\n",
    "model.fit(X_train, Y_train)\n",
    "\n",
    "sets = [\"X_train\", \"X_train_dev\", \"X_dev\", \"X_test\"]\n",
    "scores = {}\n",
    "X_sets = [X_train, X_train_dev, X_dev, X_test]\n",
    "Y_sets = [Y_train, Y_train_dev, Y_dev, Y_test]\n",
    "\n",
    "for i in range(0, len(X_sets)):\n",
    "    Y_pred = model.predict(X_sets[i])\n",
    "    score = accuracy_score(Y_sets[i], Y_pred)\n",
    "    scores[sets[i]] = score\n",
    "    \n",
    "print(scores)\n",
    "    \n"
   ]
  }
 ],
 "metadata": {
  "kernelspec": {
   "display_name": "Python 3",
   "language": "python",
   "name": "python3"
  },
  "language_info": {
   "codemirror_mode": {
    "name": "ipython",
    "version": 3
   },
   "file_extension": ".py",
   "mimetype": "text/x-python",
   "name": "python",
   "nbconvert_exporter": "python",
   "pygments_lexer": "ipython3",
   "version": "3.8.8"
  }
 },
 "nbformat": 4,
 "nbformat_minor": 5
}
