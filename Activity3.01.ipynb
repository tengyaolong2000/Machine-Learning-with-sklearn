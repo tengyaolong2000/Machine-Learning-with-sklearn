{
 "cells": [
  {
   "cell_type": "code",
   "execution_count": 14,
   "id": "5d08081c",
   "metadata": {},
   "outputs": [
    {
     "name": "stdout",
     "output_type": "stream",
     "text": [
      "(1797, 64) (1797, 1)\n"
     ]
    }
   ],
   "source": [
    "from sklearn.model_selection import train_test_split\n",
    "from sklearn.datasets import load_digits\n",
    "import pandas as pd\n",
    "\n",
    "data = load_digits()\n",
    "X = pd.DataFrame(data.data)\n",
    "Y = pd.DataFrame(data.target)\n",
    "\n",
    "print(X.shape, Y.shape)"
   ]
  },
  {
   "cell_type": "code",
   "execution_count": 15,
   "id": "d78cd7eb",
   "metadata": {},
   "outputs": [
    {
     "name": "stdout",
     "output_type": "stream",
     "text": [
      "(1077, 64) (360, 64) (1077, 1) (360, 1)\n"
     ]
    }
   ],
   "source": [
    "X, X_test, Y, Y_test = train_test_split(X, Y, test_size=0.2)\n",
    "X_train, X_dev, Y_train, Y_test = train_test_split(X, Y, test_size=0.25)\n",
    "\n",
    "print(X_train.shape, X_dev.shape, Y_train.shape, Y_test.shape)"
   ]
  },
  {
   "cell_type": "code",
   "execution_count": 17,
   "id": "815aa3f6",
   "metadata": {},
   "outputs": [
    {
     "name": "stdout",
     "output_type": "stream",
     "text": [
      "(1455, 64) (162, 64) (1455, 1) (162, 1)\n",
      "(1455, 64) (162, 64) (1455, 1) (162, 1)\n",
      "(1455, 64) (162, 64) (1455, 1) (162, 1)\n",
      "(1455, 64) (162, 64) (1455, 1) (162, 1)\n",
      "(1455, 64) (162, 64) (1455, 1) (162, 1)\n",
      "(1455, 64) (162, 64) (1455, 1) (162, 1)\n",
      "(1455, 64) (162, 64) (1455, 1) (162, 1)\n",
      "(1456, 64) (161, 64) (1456, 1) (161, 1)\n",
      "(1456, 64) (161, 64) (1456, 1) (161, 1)\n",
      "(1456, 64) (161, 64) (1456, 1) (161, 1)\n"
     ]
    }
   ],
   "source": [
    "from sklearn.model_selection import KFold\n",
    "\n",
    "data1 = load_digits()\n",
    "X1 = pd.DataFrame(data1.data)\n",
    "Y1 = pd.DataFrame(data1.target)\n",
    "X1, X1_test, Y1, Y1_test = train_test_split(X1, Y1, test_size=0.1)\n",
    "\n",
    "kf = KFold(n_splits=10)\n",
    "splits = kf.split(X1)\n",
    "\n",
    "for train_index, test_index in splits:\n",
    "    X1_train, X1_dev = X1.iloc[train_index, :], X1.iloc[test_index, :]\n",
    "    \n",
    "    Y1_train, Y1_dev = Y1.iloc[train_index, :], Y1.iloc[test_index, :]\n",
    "    \n",
    "    print(X1_train.shape, X1_dev.shape, Y1_train.shape, Y1_dev.shape)"
   ]
  },
  {
   "cell_type": "code",
   "execution_count": null,
   "id": "db7d0d70",
   "metadata": {},
   "outputs": [],
   "source": []
  }
 ],
 "metadata": {
  "kernelspec": {
   "display_name": "Python 3",
   "language": "python",
   "name": "python3"
  },
  "language_info": {
   "codemirror_mode": {
    "name": "ipython",
    "version": 3
   },
   "file_extension": ".py",
   "mimetype": "text/x-python",
   "name": "python",
   "nbconvert_exporter": "python",
   "pygments_lexer": "ipython3",
   "version": "3.8.8"
  }
 },
 "nbformat": 4,
 "nbformat_minor": 5
}
