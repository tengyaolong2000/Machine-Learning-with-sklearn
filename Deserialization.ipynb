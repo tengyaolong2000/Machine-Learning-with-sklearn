{
 "cells": [
  {
   "cell_type": "code",
   "execution_count": 3,
   "id": "b71dafed",
   "metadata": {},
   "outputs": [
    {
     "name": "stdout",
     "output_type": "stream",
     "text": [
      "['O']\n"
     ]
    }
   ],
   "source": [
    "import os\n",
    "import pickle\n",
    "from sklearn.neural_network import MLPClassifier\n",
    "\n",
    "path = os.getcwd() + '/model_exercise.pkl'\n",
    "file = open(path, 'rb')\n",
    "model = pickle.load(file)\n",
    "\n",
    "Y_pred = model.predict([[-0.33, 0.67, 1, 1, 0, 0, 0.8, -1, 0.5]])\n",
    "print(Y_pred)"
   ]
  },
  {
   "cell_type": "code",
   "execution_count": 6,
   "id": "9f7736f4",
   "metadata": {},
   "outputs": [
    {
     "name": "stdout",
     "output_type": "stream",
     "text": [
      "[0]\n"
     ]
    }
   ],
   "source": [
    "from sklearn.tree import DecisionTreeClassifier\n",
    "path = os.getcwd() + '/final_model.pkl'\n",
    "file = open(path, 'rb')\n",
    "model = pickle.load(file)\n",
    "\n",
    "pred = model.predict([[42, 2, 0, 0, 1, 2, 1, 0, 5, 8, 380, 1, -1, 0]])\n",
    "print(pred)"
   ]
  },
  {
   "cell_type": "code",
   "execution_count": null,
   "id": "54e87632",
   "metadata": {},
   "outputs": [],
   "source": []
  }
 ],
 "metadata": {
  "kernelspec": {
   "display_name": "Python 3",
   "language": "python",
   "name": "python3"
  },
  "language_info": {
   "codemirror_mode": {
    "name": "ipython",
    "version": 3
   },
   "file_extension": ".py",
   "mimetype": "text/x-python",
   "name": "python",
   "nbconvert_exporter": "python",
   "pygments_lexer": "ipython3",
   "version": "3.8.8"
  }
 },
 "nbformat": 4,
 "nbformat_minor": 5
}
