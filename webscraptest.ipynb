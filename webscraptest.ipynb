{
 "cells": [
  {
   "cell_type": "code",
   "execution_count": 11,
   "id": "2020a626",
   "metadata": {},
   "outputs": [
    {
     "name": "stdout",
     "output_type": "stream",
     "text": [
      "S$75.88\n"
     ]
    }
   ],
   "source": [
    "\n",
    "import bs4\n",
    "import requests\n",
    "\n",
    "res = requests.get('https://www.amazon.sg/Automate-Boring-Stuff-Python-Sweigart/dp/1593275994')\n",
    "res.raise_for_status()\n",
    "soup = bs4.BeautifulSoup(res.text, 'html.parser')\n",
    "elems = soup.select('#buyNewSection > div > div > span > span')\n",
    "print(elems[0].text.strip())\n",
    "\n"
   ]
  },
  {
   "cell_type": "code",
   "execution_count": 30,
   "id": "c29e9e23",
   "metadata": {},
   "outputs": [],
   "source": [
    "def getcost(url):\n",
    "    res = requests.get(url)\n",
    "    res.raise_for_status()\n",
    "    soup = bs4.BeautifulSoup(res.text, 'html.parser')\n",
    "    elems = soup.select('#price_inside_buybox')\n",
    "    print(elems[0].text.strip())\n"
   ]
  },
  {
   "cell_type": "code",
   "execution_count": 31,
   "id": "be9dd66e",
   "metadata": {},
   "outputs": [
    {
     "name": "stdout",
     "output_type": "stream",
     "text": [
      "S$9.50\n"
     ]
    }
   ],
   "source": [
    "getcost('https://www.amazon.sg/HOUZE-Strong-Handheld-Box-Clear/dp/B085LTYV2N?ref=deals_deals_deals-grid_slot-15_abf1_dt_dcell_img_0_78fbe203')"
   ]
  },
  {
   "cell_type": "code",
   "execution_count": 33,
   "id": "e942aefc",
   "metadata": {},
   "outputs": [
    {
     "name": "stdout",
     "output_type": "stream",
     "text": [
      "S$14.99\n"
     ]
    }
   ],
   "source": [
    "getcost('https://www.amazon.sg/WC-Cushions-Premium-Replacement-Headphones/dp/B07Y8Y7Q56?ref_=Oct_s9_apbd_omg_hd_bw_b71ZaGZ&pf_rd_r=Y5D79NJYFGJ56ZBQ3N6E&pf_rd_p=1d500371-7a0f-5764-b6f9-ac723a3ec4d4&pf_rd_s=merchandised-search-10&pf_rd_t=BROWSE&pf_rd_i=6436187051')"
   ]
  },
  {
   "cell_type": "code",
   "execution_count": 55,
   "id": "6370ae73",
   "metadata": {},
   "outputs": [],
   "source": [
    "from selenium import webdriver\n",
    "\n",
    "browser = webdriver.Firefox()\n",
    "browser.get('https://www.amazon.sg/?&tag=googlepcabksg-22&ref=pd_sl_72dcplo99p_e&adgrpid=96131826859&hvpone=&hvptwo=&hvadid=437677951373&hvpos=&hvnetw=g&hvrand=13074275638512712421&hvqmt=e&hvdev=c&hvdvcmdl=&hvlocint=&hvlocphy=9062524&hvtargid=kwd-10573980&hydadcr=2947_117232&gclid=CjwKCAjwqvyFBhB7EiwAER786R3DoGeLuqt1uL_-9lYwCbUL1S2mkNnkmDIriu4I-A_K8q_0ikB-LhoCdpQQAvD_BwE')"
   ]
  },
  {
   "cell_type": "code",
   "execution_count": 56,
   "id": "084237a5",
   "metadata": {},
   "outputs": [],
   "source": [
    "elem = browser.find_element_by_css_selector('#twotabsearchtextbox')\n",
    "elem.send_keys('mousepad')\n",
    "elem.submit()"
   ]
  },
  {
   "cell_type": "code",
   "execution_count": 60,
   "id": "790fa5af",
   "metadata": {},
   "outputs": [
    {
     "data": {
      "text/plain": [
       "\"Skip to main content\\n.sg\\nHello\\nSelect your address\\nAll\\nAmazon Fresh\\nGift Cards\\nAll Departments\\nAmazon International Store\\nAutomotive\\nBaby\\nBeauty & Personal Care\\nBooks\\nCDs & Vinyl\\nClothing, Shoes & Jewellery\\nComputer & Accessories\\nElectronics\\nGarden & Outdoor\\nGrocery\\nHealth, Household & Personal Care\\nHome\\nIndustrial & Scientific\\nKitchen & Dining\\nLuggage & Travel Gear\\nLuxury Beauty\\nMovies & TV\\nMusical Instruments\\nOffice Products\\nPet Supplies\\nPrime Video\\nSoftware\\nSports & Outdoors\\nTools & Home Improvement\\nToys & Games\\nVideo Games\\nHello, Sign in\\nAccount & Lists\\nReturns\\n& Orders\\n0\\nCart\\nAll\\nBest Sellers\\nCustomer Service\\nNew Releases\\nPrime\\nHome\\nToday's Deals\\nHome Improvement\\nElectronics\\nFree delivery on your first eligible order\\nLearn more\\nExplore top 4 categories from small businesses\\nBeauty\\nElectronics\\nPersonal care\\nHome\\nShop more\\nGet S$10 Gift Card with DBS/POSB. T&Cs apply.\\nLearn more\\nDelivering smiles\\nA little help can go a long way. Shop a nonprofit's wishlist today.\\nFind out more\\nUnlimited streaming with Prime Video\\nTry FREE for 30 days\\nS$10 off your first App order with S$40 spend\\nLearn more\\nHelp us deliver smiles\\nShop a nonprofit's wishlist\\n2-hour groceries delivery with Prime\\nFresh Fruit\\nIce Cream\\nDairy, Eggs & Tofu\\nMeat & Seafood\\nShop Amazon Fresh\\nBrowse by category\\nSee all categories\\nToday's deals under S$25\\nSee more deals\\nS$2.50\\nS$3.50\\nEnds in 12:22:47\\nS$12.90\\nS$29.90\\nEnds in 12:22:47\\nS$13.00\\nS$21.90\\nEnds in 12:22:46\\nS$6.90\\nS$10.90\\nEnds in 12:22:46\\nS$9.50\\nS$12.90\\nEnds in 12:22:49\\nS$15.97\\nEnds in 12:22:49\\nBest sellers in Sporting Goods\\nSee more\\n$30 off min. $200 spend in PC & Electronics\\nSee more\\nS$20 off S$60 spend on Daily Essentials\\nSee more\\nPopular in Video Games\\nPlaystation\\nNintendo\\nXbox\\nPC Gaming\\nShop all\\n2-hour delivery on the Best of Amazon\\nHome\\nKitchen\\nToys\\nOffice\\nShop Amazon Fresh\\nWork from home essentials\\nSee more\\nBest sellers in Electronics\\nSee more\\nNew arrivals in Grocery\\nSee more\\nNew arrivals in Home & Kitchen\\nSee more\\nDiscover selections in Beer, Wine & Spirits\\nBeer\\nRed Wine\\nSpirits\\nChampagne & Sparkling Wine\\nSee more\\nHome Office\\nLaptop Stand\\nMousepad\\nOffice Chair\\nStanding Desk\\nShop more\\nTop deals from small businesses\\nShop now\\nBest sellers in Non-Fiction Books\\nSee more\\nFor your Yoga needs\\nShop now\\nShop the Sennheiser store\\nDiscover more\\nUp to 30% off Barilla, Wasa & more\\nShop now\\nS$50 off S$200 spend in Toys, Books & more\\nSee more\\nTop rated in action figures\\nSee more\\n\\n\\nBack to top\\nGet to Know Us\\nAbout Us\\nCareers\\nPress Releases\\nConnect with Us\\nFacebook\\nTwitter\\nInstagram\\nMake Money with Us\\nAdvertise Your Products\\nSell on Amazon\\nAssociates Programme\\nFulfillment by Amazon\\nLet Us Help You\\nCOVID-19 and Amazon\\nYour Account\\nYour Orders\\nDelivery Rates & Policies\\nReturns & Refunds\\nHelp\\nAustraliaBrazilCanadaChinaFranceGermanyIndiaItalyJapanMexicoNetherlandsPolandSpainTurkeyUnited Arab EmiratesUnited KingdomUnited States\\nAmazon Web Services\\nScalable Cloud\\nComputing Services Amazon Fresh\\nGroceries & More\\nRight To Your Door Goodreads\\nBook reviews\\n& recommendations\\n  Shopbop\\nDesigner\\nFashion Brands AbeBooks\\nBooks, art\\n& collectables Alexa\\nActionable Analytics\\nfor the Web\\n  Book Depository\\nBooks With Free\\nDelivery Worldwide IMDb\\nMovies, TV\\n& Celebrities DPReview\\nDigital\\nPhotography\\nConditions of UsePrivacy NoticeInterest-Based Ads© 1996-2021, Amazon.com, Inc. or its affiliates\""
      ]
     },
     "execution_count": 60,
     "metadata": {},
     "output_type": "execute_result"
    }
   ],
   "source": [
    "elem = browser.find_element_by_css_selector('html')\n",
    "elem.text"
   ]
  },
  {
   "cell_type": "code",
   "execution_count": null,
   "id": "3641ef42",
   "metadata": {},
   "outputs": [],
   "source": []
  }
 ],
 "metadata": {
  "kernelspec": {
   "display_name": "Python 3",
   "language": "python",
   "name": "python3"
  },
  "language_info": {
   "codemirror_mode": {
    "name": "ipython",
    "version": 3
   },
   "file_extension": ".py",
   "mimetype": "text/x-python",
   "name": "python",
   "nbconvert_exporter": "python",
   "pygments_lexer": "ipython3",
   "version": "3.8.8"
  }
 },
 "nbformat": 4,
 "nbformat_minor": 5
}
