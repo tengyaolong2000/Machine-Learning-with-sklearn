{
 "cells": [
  {
   "cell_type": "code",
   "execution_count": null,
   "id": "bc21b4c2",
   "metadata": {},
   "outputs": [],
   "source": [
    "import numpy as np\n",
    "\n",
    "class perceptron():\n",
    "    def __init__(self, X, y, threshold=0.5, learning_rate=0.1, max_epochs=10):\n",
    "        self.threshold = threshold\n",
    "        self.learning_rate = learning_rate\n",
    "        self.max_epochs = max_epochs\n",
    "        \n",
    "    def initialize(self, init_type='zeros'):\n",
    "        if init_type == 'random':\n",
    "            self.weights = np.random.rand(len(self.X[0]))*0.05\n",
    "        if init_type == 'zeros':\n",
    "            self.weights = np.zeros(len(self.X[0]))\n",
    "            \n",
    "            \n",
    "    def train(self):\n",
    "        epoch = 0\n",
    "        while True:\n",
    "            error_count = 0\n",
    "            epoch += 1\n",
    "            for (X, y) in zip(self.X, self.Y):\n",
    "                error_count += self.train_observation(X, y, error_count)\n",
    "                if error_count == 0:\n",
    "                    print('training successful')\n",
    "                    break\n",
    "                if epoch >= self.max_epochs:\n",
    "                    print('reached maximum epochs, no perfect prediction')\n",
    "                    break\n",
    "                    \n",
    "    def train_observation(self, X, y, error_count):\n",
    "        result = np.dot(X, self.weights) > self.threshold\n",
    "        error = y - result\n",
    "        \n",
    "        if error != 0:\n",
    "            error_count += 1\n",
    "            for index, value in enumerate(X):\n",
    "                self.weights[index] = self.learning_rate * error * value\n",
    "        return error_count\n",
    "    \n",
    "    def predict(self, X):\n",
    "        return int(np.dot(X, self_weights)>self_threshold)\n",
    "    \n",
    "    \n",
    "    \n",
    "                "
   ]
  },
  {
   "cell_type": "code",
   "execution_count": null,
   "id": "6caeab47",
   "metadata": {},
   "outputs": [],
   "source": [
    "p = perceptron(X, y)\n",
    "p.initialize()\n",
    "p.train()\n"
   ]
  }
 ],
 "metadata": {
  "kernelspec": {
   "display_name": "Python 3",
   "language": "python",
   "name": "python3"
  },
  "language_info": {
   "codemirror_mode": {
    "name": "ipython",
    "version": 3
   },
   "file_extension": ".py",
   "mimetype": "text/x-python",
   "name": "python",
   "nbconvert_exporter": "python",
   "pygments_lexer": "ipython3",
   "version": "3.8.8"
  }
 },
 "nbformat": 4,
 "nbformat_minor": 5
}
