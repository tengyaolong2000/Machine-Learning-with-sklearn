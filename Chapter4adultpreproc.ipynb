{
 "cells": [
  {
   "cell_type": "code",
   "execution_count": 21,
   "id": "8cfd63ec",
   "metadata": {},
   "outputs": [],
   "source": [
    "import pandas as pd\n",
    "from sklearn.preprocessing import LabelEncoder\n",
    "import csv\n",
    "\n",
    "df = pd.read_csv('https://raw.githubusercontent.com/PacktWorkshops/The-Machine-Learning-Workshop/master/Chapter04/census_income_dataset.csv')\n",
    "\n",
    "del df['fnlwgt']\n",
    "del df['education']\n",
    "del df['relationship']\n",
    "del df['race']\n",
    "del df['sex']\n",
    "\n",
    "enc = LabelEncoder()\n",
    "\n",
    "df['workclass'] = enc.fit_transform(df['workclass'].astype('str'))\n",
    "df['marital-status'] = enc.fit_transform(df['marital-status'].astype('str'))\n",
    "df['occupation'] = enc.fit_transform(df['occupation'].astype('str'))\n",
    "df['native-country'] = enc.fit_transform(df['native-country'].astype('str'))\n",
    "\n",
    "df.head(10)\n",
    "                                \n",
    "df.to_csv('census_income_dataset_preprocessed.csv')"
   ]
  },
  {
   "cell_type": "code",
   "execution_count": 16,
   "id": "78e1b112",
   "metadata": {},
   "outputs": [
    {
     "data": {
      "text/plain": [
       "1470"
      ]
     },
     "execution_count": 16,
     "metadata": {},
     "output_type": "execute_result"
    }
   ],
   "source": [
    "min = df['capital-loss'].mean() - 3*df['capital-loss'].std()\n",
    "max = df['capital-loss'].mean() + 3*df['capital-loss'].std()\n",
    "(df['capital-loss'] <= min).sum() + (df['capital-loss'] >= max).sum()\n",
    "\n"
   ]
  },
  {
   "cell_type": "code",
   "execution_count": 22,
   "id": "7bf837a0",
   "metadata": {},
   "outputs": [
    {
     "data": {
      "text/plain": [
       "0        False\n",
       "1        False\n",
       "2        False\n",
       "3        False\n",
       "4        False\n",
       "         ...  \n",
       "32556    False\n",
       "32557    False\n",
       "32558    False\n",
       "32559    False\n",
       "32560    False\n",
       "Name: capital-loss, Length: 32561, dtype: bool"
      ]
     },
     "execution_count": 22,
     "metadata": {},
     "output_type": "execute_result"
    }
   ],
   "source": [
    "df['capital-loss'] <= min"
   ]
  },
  {
   "cell_type": "code",
   "execution_count": 23,
   "id": "f50734a8",
   "metadata": {},
   "outputs": [
    {
     "name": "stdout",
     "output_type": "stream",
     "text": [
      "       age  workclass  education-num  marital-status  occupation  \\\n",
      "0       39          6             13               4           0   \n",
      "1       50          5             13               2           3   \n",
      "2       38          3              9               0           5   \n",
      "3       53          3              7               2           5   \n",
      "4       28          3             13               2           9   \n",
      "...    ...        ...            ...             ...         ...   \n",
      "32556   27          3             12               2          12   \n",
      "32557   40          3              9               2           6   \n",
      "32558   58          3              9               6           0   \n",
      "32559   22          3              9               4           0   \n",
      "32560   52          4              9               2           3   \n",
      "\n",
      "       capital-gains  capital-loss  hours-per-week  native-country  target  \n",
      "0               2174             0              40              38   <=50K  \n",
      "1                  0             0              13              38   <=50K  \n",
      "2                  0             0              40              38   <=50K  \n",
      "3                  0             0              40              38   <=50K  \n",
      "4                  0             0              40               4   <=50K  \n",
      "...              ...           ...             ...             ...     ...  \n",
      "32556              0             0              38              38   <=50K  \n",
      "32557              0             0              40              38    >50K  \n",
      "32558              0             0              40              38   <=50K  \n",
      "32559              0             0              20              38   <=50K  \n",
      "32560          15024             0              40              38    >50K  \n",
      "\n",
      "[32561 rows x 10 columns]\n"
     ]
    }
   ],
   "source": [
    "print(df)"
   ]
  },
  {
   "cell_type": "code",
   "execution_count": null,
   "id": "21bf7da0",
   "metadata": {},
   "outputs": [],
   "source": []
  }
 ],
 "metadata": {
  "kernelspec": {
   "display_name": "Python 3",
   "language": "python",
   "name": "python3"
  },
  "language_info": {
   "codemirror_mode": {
    "name": "ipython",
    "version": 3
   },
   "file_extension": ".py",
   "mimetype": "text/x-python",
   "name": "python",
   "nbconvert_exporter": "python",
   "pygments_lexer": "ipython3",
   "version": "3.8.8"
  }
 },
 "nbformat": 4,
 "nbformat_minor": 5
}
