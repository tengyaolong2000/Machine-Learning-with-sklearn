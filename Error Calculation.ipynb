{
 "cells": [
  {
   "cell_type": "code",
   "execution_count": 20,
   "id": "2d08d527",
   "metadata": {},
   "outputs": [
    {
     "name": "stdout",
     "output_type": "stream",
     "text": [
      "(455, 30) (57, 30) (455, 1) (57, 1)\n",
      "['mean radius' 'mean texture' 'mean perimeter' 'mean area'\n",
      " 'mean smoothness' 'mean compactness' 'mean concavity'\n",
      " 'mean concave points' 'mean symmetry' 'mean fractal dimension'\n",
      " 'radius error' 'texture error' 'perimeter error' 'area error'\n",
      " 'smoothness error' 'compactness error' 'concavity error'\n",
      " 'concave points error' 'symmetry error' 'fractal dimension error'\n",
      " 'worst radius' 'worst texture' 'worst perimeter' 'worst area'\n",
      " 'worst smoothness' 'worst compactness' 'worst concavity'\n",
      " 'worst concave points' 'worst symmetry' 'worst fractal dimension']\n"
     ]
    }
   ],
   "source": [
    "from sklearn.datasets import load_breast_cancer\n",
    "import numpy as np\n",
    "import pandas as pd\n",
    "from sklearn.metrics import recall_score\n",
    "from sklearn.model_selection import train_test_split\n",
    "from sklearn import tree\n",
    "\n",
    "data = load_breast_cancer()\n",
    "X = pd.DataFrame(data.data)\n",
    "Y = pd.DataFrame(data.target)\n",
    "\n",
    "X_new, X_test, Y_new, Y_test = train_test_split(X, Y, test_size=0.1, random_state=101)\n",
    "\n",
    "dev_size = X_test.shape[0]/X_new.shape[0]\n",
    "\n",
    "X_train, X_dev, Y_train, Y_dev = train_test_split(X_new, Y_new, test_size=dev_size, random_state=101)\n",
    "\n",
    "print(X_train.shape, X_dev.shape, Y_train.shape, Y_dev.shape)\n",
    "\n"
   ]
  },
  {
   "cell_type": "code",
   "execution_count": 14,
   "id": "112ac245",
   "metadata": {},
   "outputs": [
    {
     "name": "stdout",
     "output_type": "stream",
     "text": [
      "(50, 30) (50, 1)\n"
     ]
    }
   ],
   "source": [
    "np.random.seed(101)\n",
    "\n",
    "indices_train = np.random.randint(0, len(X_train), 25)\n",
    "indices_dev = np.random.randint(0, len(X_dev), 25)\n",
    "\n",
    "X_train_dev = pd.concat([X_train.iloc[indices_train, :], X_dev.iloc[indices_dev, :]])\n",
    "Y_train_dev = pd.concat([Y_train.iloc[indices_train, :], Y_dev.iloc[indices_dev, :]])\n",
    "\n",
    "print(X_train_dev.shape, Y_train_dev.shape)"
   ]
  },
  {
   "cell_type": "code",
   "execution_count": 15,
   "id": "a367a87a",
   "metadata": {},
   "outputs": [
    {
     "name": "stdout",
     "output_type": "stream",
     "text": [
      "{'Training': 1.0, 'Train/Dev': 0.9705882352941176, 'Validation': 0.9333333333333333, 'Testing': 0.9714285714285714}\n"
     ]
    }
   ],
   "source": [
    "model = tree.DecisionTreeClassifier(random_state=101)\n",
    "model.fit(X_train, Y_train)\n",
    "\n",
    "sets = [\"Training\", \"Train/Dev\", \"Validation\", \"Testing\"]\n",
    "\n",
    "X_sets = [X_train, X_train_dev, X_dev, X_test]\n",
    "Y_sets = [Y_train, Y_train_dev, Y_dev, Y_test]\n",
    "\n",
    "scores = {}\n",
    "\n",
    "for i in range(0, len(X_sets)):\n",
    "    Y_pred = model.predict(X_sets[i])\n",
    "    Recall_score = recall_score(Y_sets[i], Y_pred)\n",
    "    scores[sets[i]] = Recall_score\n",
    "    \n",
    "print(scores)"
   ]
  },
  {
   "cell_type": "code",
   "execution_count": null,
   "id": "7db962e5",
   "metadata": {},
   "outputs": [],
   "source": []
  }
 ],
 "metadata": {
  "kernelspec": {
   "display_name": "Python 3",
   "language": "python",
   "name": "python3"
  },
  "language_info": {
   "codemirror_mode": {
    "name": "ipython",
    "version": 3
   },
   "file_extension": ".py",
   "mimetype": "text/x-python",
   "name": "python",
   "nbconvert_exporter": "python",
   "pygments_lexer": "ipython3",
   "version": "3.8.8"
  }
 },
 "nbformat": 4,
 "nbformat_minor": 5
}
