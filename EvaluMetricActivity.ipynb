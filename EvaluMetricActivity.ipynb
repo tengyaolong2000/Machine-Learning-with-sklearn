{
 "cells": [
  {
   "cell_type": "code",
   "execution_count": 1,
   "id": "fe0f70c9",
   "metadata": {},
   "outputs": [
    {
     "name": "stdout",
     "output_type": "stream",
     "text": [
      "[[24  0  0  0  0  0  1  0  0  2]\n",
      " [ 0 31  0  2  1  0  1  0  0  0]\n",
      " [ 1  0 29  0  0  0  2  2  1  1]\n",
      " [ 0  0  2 27  0  0  0  0  0  0]\n",
      " [ 1  1  0  0 26  0  1  1  0  0]\n",
      " [ 0  1  1  0  0 34  0  0  1  3]\n",
      " [ 1  1  1  1  1  0 39  0  0  0]\n",
      " [ 0  0  0  0  0  1  1 37  0  0]\n",
      " [ 1  3  3  5  0  1  0  1 24  1]\n",
      " [ 0  0  1  4  0  1  0  0  1 34]] 0.8472222222222222\n"
     ]
    }
   ],
   "source": [
    "import pandas as pd\n",
    "from sklearn.datasets import load_digits\n",
    "from sklearn.model_selection import train_test_split\n",
    "from sklearn import tree\n",
    "from sklearn.metrics import confusion_matrix\n",
    "from sklearn.metrics import accuracy_score\n",
    "from sklearn.metrics import precision_score\n",
    "from sklearn.metrics import recall_score\n",
    "from sklearn.preprocessing import LabelEncoder\n",
    "\n",
    "\n",
    "data = load_digits()\n",
    "X = pd.DataFrame(data.data)\n",
    "Y = pd.DataFrame(data.target)\n",
    "\n",
    "X_train, X_test, Y_train, Y_test = train_test_split(X, Y, test_size=0.2, random_state=0)\n",
    "model = tree.DecisionTreeClassifier(random_state=0)\n",
    "model = model.fit(X_train, Y_train)\n",
    "Y_pred = model.predict(X_test)\n",
    "\n",
    "confusion_matrix = confusion_matrix(Y_test, Y_pred)\n",
    "accuracy_score = accuracy_score(Y_test, Y_pred)\n",
    "\n",
    "\n",
    "\n",
    "print(confusion_matrix, accuracy_score)"
   ]
  },
  {
   "cell_type": "code",
   "execution_count": 2,
   "id": "53f087c8",
   "metadata": {},
   "outputs": [
    {
     "name": "stdout",
     "output_type": "stream",
     "text": [
      "0.9841269841269841 0.9810126582278481\n"
     ]
    }
   ],
   "source": [
    "Y_test_2 = Y_test[:]\n",
    "Y_test_2[Y_test_2 != 6] = 1\n",
    "Y_test_2[Y_test_2 == 6] = 0\n",
    "Y_pred_2 = Y_pred\n",
    "Y_pred_2[Y_pred_2 != 6] = 1\n",
    "Y_pred_2[Y_pred_2 == 6] = 0\n",
    "precision_score = precision_score(Y_test, Y_pred)\n",
    "recall_score = recall_score(Y_test, Y_pred)\n",
    "\n",
    "print(precision_score, recall_score)"
   ]
  },
  {
   "cell_type": "code",
   "execution_count": 6,
   "id": "dfa5ae44",
   "metadata": {},
   "outputs": [
    {
     "name": "stdout",
     "output_type": "stream",
     "text": [
      "[1 1 1 0 0 1 1 1 1 1 1 1 0 0 0 0 1 1 1 1 1 1 1 1 1 1 1 1 1 1 1 1 0 1 1 0 1\n",
      " 1 1 1 1 0 1 1 1 1 1 1 1 1 1 0 1 1 1 1 1 1 0 1 1 1 1 1 0 1 0 0 1 1 1 1 1 1\n",
      " 1 1 1 1 1 1 1 1 0 1 1 1 1 1 1 1 1 1 1 1 1 1 1 1 1 1 1 1 1 1 1 1 1 1 1 1 1\n",
      " 1 1 1 1 1 1 1 1 1 1 1 1 1 1 1 1 0 1 1 1 1 1 1 1 1 1 1 1 0 1 1 0 1 0 1 1 1\n",
      " 1 1 1 1 1 1 0 1 1 1 1 1 0 1 1 1 0 1 1 1 1 1 1 1 1 1 1 0 1 1 0 1 1 1 0 1 1\n",
      " 1 1 1 1 1 1 1 1 1 1 1 1 1 0 1 1 1 1 1 0 1 1 1 1 1 1 1 1 1 1 0 1 0 1 1 1 1\n",
      " 1 1 1 0 1 1 1 1 0 1 1 0 1 1 1 1 1 0 1 1 1 1 1 1 1 1 1 1 1 1 1 1 1 1 1 1 0\n",
      " 1 1 1 0 1 1 1 1 1 1 1 1 0 1 1 1 1 0 1 1 1 1 0 1 1 1 1 1 1 1 1 0 1 1 1 1 1\n",
      " 1 0 1 1 1 1 1 1 1 1 0 0 1 1 1 1 1 1 1 1 1 1 1 1 1 1 1 0 1 1 1 1 1 1 1 1 1\n",
      " 1 0 1 1 1 1 1 1 1 0 1 1 1 1 1 1 1 1 1 1 1 1 1 1 1 1 1]\n",
      "      0\n",
      "1081  1\n",
      "1707  1\n",
      "927   1\n",
      "713   0\n",
      "262   0\n",
      "...  ..\n",
      "506   1\n",
      "557   1\n",
      "1730  1\n",
      "638   1\n",
      "829   1\n",
      "\n",
      "[360 rows x 1 columns]\n"
     ]
    }
   ],
   "source": [
    "print(Y_pred)\n",
    "print(Y_test)"
   ]
  },
  {
   "cell_type": "code",
   "execution_count": null,
   "id": "2e7a0b9a",
   "metadata": {},
   "outputs": [],
   "source": []
  }
 ],
 "metadata": {
  "kernelspec": {
   "display_name": "Python 3",
   "language": "python",
   "name": "python3"
  },
  "language_info": {
   "codemirror_mode": {
    "name": "ipython",
    "version": 3
   },
   "file_extension": ".py",
   "mimetype": "text/x-python",
   "name": "python",
   "nbconvert_exporter": "python",
   "pygments_lexer": "ipython3",
   "version": "3.8.8"
  }
 },
 "nbformat": 4,
 "nbformat_minor": 5
}
